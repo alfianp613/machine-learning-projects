{
  "nbformat": 4,
  "nbformat_minor": 0,
  "metadata": {
    "kernelspec": {
      "language": "python",
      "display_name": "Python 3",
      "name": "python3"
    },
    "language_info": {
      "pygments_lexer": "ipython3",
      "nbconvert_exporter": "python",
      "version": "3.6.4",
      "file_extension": ".py",
      "codemirror_mode": {
        "name": "ipython",
        "version": 3
      },
      "name": "python",
      "mimetype": "text/x-python"
    },
    "colab": {
      "name": "heart-disease-eda.ipynb",
      "provenance": []
    }
  },
  "cells": [
    {
      "cell_type": "markdown",
      "metadata": {
        "id": "vkxj2ALFqOxu"
      },
      "source": [
        "# Heart Disease Prediction\n",
        "It's my very first notebook and exploratory. So please if you have any suggestion drop it in comment. Thank you :)"
      ]
    },
    {
      "cell_type": "code",
      "metadata": {
        "_uuid": "8f2839f25d086af736a60e9eeb907d3b93b6e0e5",
        "_cell_guid": "b1076dfc-b9ad-4769-8c92-a6c4dae69d19",
        "trusted": true,
        "id": "3FenxVHiqOxx"
      },
      "source": [
        "import numpy as np # linear algebra\n",
        "import pandas as pd # data processing, CSV file I/O (e.g. pd.read_csv)\n",
        "import matplotlib.pyplot as plt\n",
        "import seaborn as sns\n",
        "%matplotlib inline"
      ],
      "execution_count": null,
      "outputs": []
    },
    {
      "cell_type": "markdown",
      "metadata": {
        "id": "lr9jRIgDqOyA"
      },
      "source": [
        "## Full Form of the column Headings\n",
        "1. **Age**: Age in years\n",
        "2. **Sex**: Male (1) or Female(0)\n",
        "3. **CP**: pain has values between\n",
        "    - Value 0: typical angina\n",
        "    - Value 1: atypical angina\n",
        "    - Value 2: non-anginal pain\n",
        "    - Value 3: asymptomatic 0-3.\n",
        "4. **Resting Blood Pressure(trestbps)**: resting blood pressure (in mmHg on admission to the hospital)\n",
        "5. **Cholestorol**: serum cholestoral in mg/dl\n",
        "6. **fbs(Fast blood sugar)** : blood sugar while fasting (>120 mg/dl) (1=true/0=false)\n",
        "7. **Rest ecg** : resting ecg graph\n",
        "    - Value 0: normal\n",
        "    - Value 1: having ST-T wave abnormality (T wave inversions and/or ST elevation or depression of > 0.05 mV)\n",
        "    - Value 2: showing probable or definite left ventricular hypertrophy by Estes' criteria\n",
        "8. **thalach**: max heart rate\n",
        "9. **exang** : Exercise induced angina is chest pain while exercising or doing any physical activity.(1 = yes; 0 = no)\n",
        "10. **Old peak** : ST Depression is the difference between value of ECG at rest and after exercise.\n",
        "11. **ST Slope** : is the tangent to the depression value.\n",
        "12. **The number of major blood vessels supplying blood to heart blocked.**\n",
        "13. **Thal** :The Types of thalassemia. (0=normal ,1= fixed defect ,2=reversable defect)\n",
        "14. **Target** : Here 1 denotes heart attack and 0 denotes didn't occur"
      ]
    },
    {
      "cell_type": "markdown",
      "metadata": {
        "id": "GB82GGECqOyB"
      },
      "source": [
        "# Exploratory Data Analysis"
      ]
    },
    {
      "cell_type": "markdown",
      "metadata": {
        "id": "7FmbsGeqqOyD"
      },
      "source": [
        "## Load Data"
      ]
    },
    {
      "cell_type": "code",
      "metadata": {
        "_uuid": "d629ff2d2480ee46fbb7e2d37f6b5fab8052498a",
        "_cell_guid": "79c7e3d0-c299-4dcb-8224-4455121ee9b0",
        "trusted": true,
        "id": "J0fL38sSqOyE",
        "outputId": "29374e1f-460d-4f53-bda2-f92fd14d68f0"
      },
      "source": [
        "data = pd.read_csv('../input/heart-disease-uci/heart.csv')\n",
        "data.head(2)"
      ],
      "execution_count": null,
      "outputs": [
        {
          "output_type": "execute_result",
          "data": {
            "text/plain": [
              "   age  sex  cp  trestbps  chol  fbs  restecg  thalach  exang  oldpeak  slope  \\\n",
              "0   63    1   3       145   233    1        0      150      0      2.3      0   \n",
              "1   37    1   2       130   250    0        1      187      0      3.5      0   \n",
              "\n",
              "   ca  thal  target  \n",
              "0   0     1       1  \n",
              "1   0     2       1  "
            ],
            "text/html": [
              "<div>\n",
              "<style scoped>\n",
              "    .dataframe tbody tr th:only-of-type {\n",
              "        vertical-align: middle;\n",
              "    }\n",
              "\n",
              "    .dataframe tbody tr th {\n",
              "        vertical-align: top;\n",
              "    }\n",
              "\n",
              "    .dataframe thead th {\n",
              "        text-align: right;\n",
              "    }\n",
              "</style>\n",
              "<table border=\"1\" class=\"dataframe\">\n",
              "  <thead>\n",
              "    <tr style=\"text-align: right;\">\n",
              "      <th></th>\n",
              "      <th>age</th>\n",
              "      <th>sex</th>\n",
              "      <th>cp</th>\n",
              "      <th>trestbps</th>\n",
              "      <th>chol</th>\n",
              "      <th>fbs</th>\n",
              "      <th>restecg</th>\n",
              "      <th>thalach</th>\n",
              "      <th>exang</th>\n",
              "      <th>oldpeak</th>\n",
              "      <th>slope</th>\n",
              "      <th>ca</th>\n",
              "      <th>thal</th>\n",
              "      <th>target</th>\n",
              "    </tr>\n",
              "  </thead>\n",
              "  <tbody>\n",
              "    <tr>\n",
              "      <th>0</th>\n",
              "      <td>63</td>\n",
              "      <td>1</td>\n",
              "      <td>3</td>\n",
              "      <td>145</td>\n",
              "      <td>233</td>\n",
              "      <td>1</td>\n",
              "      <td>0</td>\n",
              "      <td>150</td>\n",
              "      <td>0</td>\n",
              "      <td>2.3</td>\n",
              "      <td>0</td>\n",
              "      <td>0</td>\n",
              "      <td>1</td>\n",
              "      <td>1</td>\n",
              "    </tr>\n",
              "    <tr>\n",
              "      <th>1</th>\n",
              "      <td>37</td>\n",
              "      <td>1</td>\n",
              "      <td>2</td>\n",
              "      <td>130</td>\n",
              "      <td>250</td>\n",
              "      <td>0</td>\n",
              "      <td>1</td>\n",
              "      <td>187</td>\n",
              "      <td>0</td>\n",
              "      <td>3.5</td>\n",
              "      <td>0</td>\n",
              "      <td>0</td>\n",
              "      <td>2</td>\n",
              "      <td>1</td>\n",
              "    </tr>\n",
              "  </tbody>\n",
              "</table>\n",
              "</div>"
            ]
          },
          "metadata": {
            "tags": []
          },
          "execution_count": 4
        }
      ]
    },
    {
      "cell_type": "code",
      "metadata": {
        "trusted": true,
        "id": "VbmbL85XqOyM",
        "outputId": "b90b25a4-7eb4-40dd-f98c-0f2abddff874"
      },
      "source": [
        "data.columns = ['age', 'sex', 'chest_pain_type', 'resting_blood_pressure', 'serum_cholesterol', 'fasting_blood_sugar', 'rest_ecg', 'max_heart_rate',\n",
        "       'exercise_angina', 'st_depression', 'st_slope', 'num_major_vessels', 'thalassemia', 'target']\n",
        "\n",
        "data.columns.unique()"
      ],
      "execution_count": null,
      "outputs": [
        {
          "output_type": "execute_result",
          "data": {
            "text/plain": [
              "Index(['age', 'sex', 'chest_pain_type', 'resting_blood_pressure',\n",
              "       'serum_cholesterol', 'fasting_blood_sugar', 'rest_ecg',\n",
              "       'max_heart_rate', 'exercise_angina', 'st_depression', 'st_slope',\n",
              "       'num_major_vessels', 'thalassemia', 'target'],\n",
              "      dtype='object')"
            ]
          },
          "metadata": {
            "tags": []
          },
          "execution_count": 5
        }
      ]
    },
    {
      "cell_type": "code",
      "metadata": {
        "trusted": true,
        "id": "d-WJsiRZqOyR",
        "outputId": "031546a0-a3d7-465d-9527-efc298f02e00"
      },
      "source": [
        "data.describe().round(2)"
      ],
      "execution_count": null,
      "outputs": [
        {
          "output_type": "execute_result",
          "data": {
            "text/plain": [
              "          age     sex  chest_pain_type  resting_blood_pressure  \\\n",
              "count  303.00  303.00           303.00                  303.00   \n",
              "mean    54.37    0.68             0.97                  131.62   \n",
              "std      9.08    0.47             1.03                   17.54   \n",
              "min     29.00    0.00             0.00                   94.00   \n",
              "25%     47.50    0.00             0.00                  120.00   \n",
              "50%     55.00    1.00             1.00                  130.00   \n",
              "75%     61.00    1.00             2.00                  140.00   \n",
              "max     77.00    1.00             3.00                  200.00   \n",
              "\n",
              "       serum_cholesterol  fasting_blood_sugar  rest_ecg  max_heart_rate  \\\n",
              "count             303.00               303.00    303.00          303.00   \n",
              "mean              246.26                 0.15      0.53          149.65   \n",
              "std                51.83                 0.36      0.53           22.91   \n",
              "min               126.00                 0.00      0.00           71.00   \n",
              "25%               211.00                 0.00      0.00          133.50   \n",
              "50%               240.00                 0.00      1.00          153.00   \n",
              "75%               274.50                 0.00      1.00          166.00   \n",
              "max               564.00                 1.00      2.00          202.00   \n",
              "\n",
              "       exercise_angina  st_depression  st_slope  num_major_vessels  \\\n",
              "count           303.00         303.00    303.00             303.00   \n",
              "mean              0.33           1.04      1.40               0.73   \n",
              "std               0.47           1.16      0.62               1.02   \n",
              "min               0.00           0.00      0.00               0.00   \n",
              "25%               0.00           0.00      1.00               0.00   \n",
              "50%               0.00           0.80      1.00               0.00   \n",
              "75%               1.00           1.60      2.00               1.00   \n",
              "max               1.00           6.20      2.00               4.00   \n",
              "\n",
              "       thalassemia  target  \n",
              "count       303.00  303.00  \n",
              "mean          2.31    0.54  \n",
              "std           0.61    0.50  \n",
              "min           0.00    0.00  \n",
              "25%           2.00    0.00  \n",
              "50%           2.00    1.00  \n",
              "75%           3.00    1.00  \n",
              "max           3.00    1.00  "
            ],
            "text/html": [
              "<div>\n",
              "<style scoped>\n",
              "    .dataframe tbody tr th:only-of-type {\n",
              "        vertical-align: middle;\n",
              "    }\n",
              "\n",
              "    .dataframe tbody tr th {\n",
              "        vertical-align: top;\n",
              "    }\n",
              "\n",
              "    .dataframe thead th {\n",
              "        text-align: right;\n",
              "    }\n",
              "</style>\n",
              "<table border=\"1\" class=\"dataframe\">\n",
              "  <thead>\n",
              "    <tr style=\"text-align: right;\">\n",
              "      <th></th>\n",
              "      <th>age</th>\n",
              "      <th>sex</th>\n",
              "      <th>chest_pain_type</th>\n",
              "      <th>resting_blood_pressure</th>\n",
              "      <th>serum_cholesterol</th>\n",
              "      <th>fasting_blood_sugar</th>\n",
              "      <th>rest_ecg</th>\n",
              "      <th>max_heart_rate</th>\n",
              "      <th>exercise_angina</th>\n",
              "      <th>st_depression</th>\n",
              "      <th>st_slope</th>\n",
              "      <th>num_major_vessels</th>\n",
              "      <th>thalassemia</th>\n",
              "      <th>target</th>\n",
              "    </tr>\n",
              "  </thead>\n",
              "  <tbody>\n",
              "    <tr>\n",
              "      <th>count</th>\n",
              "      <td>303.00</td>\n",
              "      <td>303.00</td>\n",
              "      <td>303.00</td>\n",
              "      <td>303.00</td>\n",
              "      <td>303.00</td>\n",
              "      <td>303.00</td>\n",
              "      <td>303.00</td>\n",
              "      <td>303.00</td>\n",
              "      <td>303.00</td>\n",
              "      <td>303.00</td>\n",
              "      <td>303.00</td>\n",
              "      <td>303.00</td>\n",
              "      <td>303.00</td>\n",
              "      <td>303.00</td>\n",
              "    </tr>\n",
              "    <tr>\n",
              "      <th>mean</th>\n",
              "      <td>54.37</td>\n",
              "      <td>0.68</td>\n",
              "      <td>0.97</td>\n",
              "      <td>131.62</td>\n",
              "      <td>246.26</td>\n",
              "      <td>0.15</td>\n",
              "      <td>0.53</td>\n",
              "      <td>149.65</td>\n",
              "      <td>0.33</td>\n",
              "      <td>1.04</td>\n",
              "      <td>1.40</td>\n",
              "      <td>0.73</td>\n",
              "      <td>2.31</td>\n",
              "      <td>0.54</td>\n",
              "    </tr>\n",
              "    <tr>\n",
              "      <th>std</th>\n",
              "      <td>9.08</td>\n",
              "      <td>0.47</td>\n",
              "      <td>1.03</td>\n",
              "      <td>17.54</td>\n",
              "      <td>51.83</td>\n",
              "      <td>0.36</td>\n",
              "      <td>0.53</td>\n",
              "      <td>22.91</td>\n",
              "      <td>0.47</td>\n",
              "      <td>1.16</td>\n",
              "      <td>0.62</td>\n",
              "      <td>1.02</td>\n",
              "      <td>0.61</td>\n",
              "      <td>0.50</td>\n",
              "    </tr>\n",
              "    <tr>\n",
              "      <th>min</th>\n",
              "      <td>29.00</td>\n",
              "      <td>0.00</td>\n",
              "      <td>0.00</td>\n",
              "      <td>94.00</td>\n",
              "      <td>126.00</td>\n",
              "      <td>0.00</td>\n",
              "      <td>0.00</td>\n",
              "      <td>71.00</td>\n",
              "      <td>0.00</td>\n",
              "      <td>0.00</td>\n",
              "      <td>0.00</td>\n",
              "      <td>0.00</td>\n",
              "      <td>0.00</td>\n",
              "      <td>0.00</td>\n",
              "    </tr>\n",
              "    <tr>\n",
              "      <th>25%</th>\n",
              "      <td>47.50</td>\n",
              "      <td>0.00</td>\n",
              "      <td>0.00</td>\n",
              "      <td>120.00</td>\n",
              "      <td>211.00</td>\n",
              "      <td>0.00</td>\n",
              "      <td>0.00</td>\n",
              "      <td>133.50</td>\n",
              "      <td>0.00</td>\n",
              "      <td>0.00</td>\n",
              "      <td>1.00</td>\n",
              "      <td>0.00</td>\n",
              "      <td>2.00</td>\n",
              "      <td>0.00</td>\n",
              "    </tr>\n",
              "    <tr>\n",
              "      <th>50%</th>\n",
              "      <td>55.00</td>\n",
              "      <td>1.00</td>\n",
              "      <td>1.00</td>\n",
              "      <td>130.00</td>\n",
              "      <td>240.00</td>\n",
              "      <td>0.00</td>\n",
              "      <td>1.00</td>\n",
              "      <td>153.00</td>\n",
              "      <td>0.00</td>\n",
              "      <td>0.80</td>\n",
              "      <td>1.00</td>\n",
              "      <td>0.00</td>\n",
              "      <td>2.00</td>\n",
              "      <td>1.00</td>\n",
              "    </tr>\n",
              "    <tr>\n",
              "      <th>75%</th>\n",
              "      <td>61.00</td>\n",
              "      <td>1.00</td>\n",
              "      <td>2.00</td>\n",
              "      <td>140.00</td>\n",
              "      <td>274.50</td>\n",
              "      <td>0.00</td>\n",
              "      <td>1.00</td>\n",
              "      <td>166.00</td>\n",
              "      <td>1.00</td>\n",
              "      <td>1.60</td>\n",
              "      <td>2.00</td>\n",
              "      <td>1.00</td>\n",
              "      <td>3.00</td>\n",
              "      <td>1.00</td>\n",
              "    </tr>\n",
              "    <tr>\n",
              "      <th>max</th>\n",
              "      <td>77.00</td>\n",
              "      <td>1.00</td>\n",
              "      <td>3.00</td>\n",
              "      <td>200.00</td>\n",
              "      <td>564.00</td>\n",
              "      <td>1.00</td>\n",
              "      <td>2.00</td>\n",
              "      <td>202.00</td>\n",
              "      <td>1.00</td>\n",
              "      <td>6.20</td>\n",
              "      <td>2.00</td>\n",
              "      <td>4.00</td>\n",
              "      <td>3.00</td>\n",
              "      <td>1.00</td>\n",
              "    </tr>\n",
              "  </tbody>\n",
              "</table>\n",
              "</div>"
            ]
          },
          "metadata": {
            "tags": []
          },
          "execution_count": 6
        }
      ]
    },
    {
      "cell_type": "markdown",
      "metadata": {
        "id": "BSgyEAXJqOya"
      },
      "source": [
        "youngest people that have a heart attack is on 29 old."
      ]
    },
    {
      "cell_type": "code",
      "metadata": {
        "trusted": true,
        "id": "EXb4tVaWqOyc",
        "outputId": "8c43f611-b1d5-4da0-cf58-30d6def38ca4"
      },
      "source": [
        "data.info()"
      ],
      "execution_count": null,
      "outputs": [
        {
          "output_type": "stream",
          "text": [
            "<class 'pandas.core.frame.DataFrame'>\n",
            "RangeIndex: 303 entries, 0 to 302\n",
            "Data columns (total 14 columns):\n",
            " #   Column                  Non-Null Count  Dtype  \n",
            "---  ------                  --------------  -----  \n",
            " 0   age                     303 non-null    int64  \n",
            " 1   sex                     303 non-null    int64  \n",
            " 2   chest_pain_type         303 non-null    int64  \n",
            " 3   resting_blood_pressure  303 non-null    int64  \n",
            " 4   serum_cholesterol       303 non-null    int64  \n",
            " 5   fasting_blood_sugar     303 non-null    int64  \n",
            " 6   rest_ecg                303 non-null    int64  \n",
            " 7   max_heart_rate          303 non-null    int64  \n",
            " 8   exercise_angina         303 non-null    int64  \n",
            " 9   st_depression           303 non-null    float64\n",
            " 10  st_slope                303 non-null    int64  \n",
            " 11  num_major_vessels       303 non-null    int64  \n",
            " 12  thalassemia             303 non-null    int64  \n",
            " 13  target                  303 non-null    int64  \n",
            "dtypes: float64(1), int64(13)\n",
            "memory usage: 33.3 KB\n"
          ],
          "name": "stdout"
        }
      ]
    },
    {
      "cell_type": "markdown",
      "metadata": {
        "id": "dizHDC_AqOyg"
      },
      "source": [
        "seems the data doesn't have null value"
      ]
    },
    {
      "cell_type": "markdown",
      "metadata": {
        "id": "-QCXlUHvqOyh"
      },
      "source": [
        "## Try to visualize data"
      ]
    },
    {
      "cell_type": "code",
      "metadata": {
        "trusted": true,
        "id": "IeEj_rAlqOyi",
        "outputId": "6e651ce9-00ce-4907-876c-dc61379d9818"
      },
      "source": [
        "col_class = [\n",
        "    len(data.sex.unique()),\n",
        "    len(data.chest_pain_type.unique()),\n",
        "    len(data.resting_blood_pressure.unique()),\n",
        "    len(data.serum_cholesterol.unique()),\n",
        "    len(data.fasting_blood_sugar.unique()),\n",
        "    len(data.rest_ecg.unique()),\n",
        "    len(data.max_heart_rate.unique()),\n",
        "    len(data.exercise_angina.unique()),\n",
        "    len(data.st_depression.unique()),\n",
        "    len(data.st_slope.unique()),\n",
        "    len(data.num_major_vessels.unique()),\n",
        "    len(data.thalassemia.unique()),\n",
        "    len(data.target.unique()),\n",
        "]\n",
        "\n",
        "plt.figure(figsize=(6,6))\n",
        "plt.barh(data.columns.unique()[1:], col_class)\n",
        "plt.show()"
      ],
      "execution_count": null,
      "outputs": [
        {
          "output_type": "display_data",
          "data": {
            "text/plain": [
              "<Figure size 432x432 with 1 Axes>"
            ],
            "image/png": "[encoded data removed]"
          },
          "metadata": {
            "tags": [],
            "needs_background": "light"
          }
        }
      ]
    },
    {
      "cell_type": "code",
      "metadata": {
        "trusted": true,
        "id": "L4mF36gTqOyr",
        "outputId": "1c3ef520-f17f-4bb5-d8df-e79cfd2eeee0"
      },
      "source": [
        "print('Total people safe = %d' % len(data[data.target == 0]))\n",
        "print('Total people diseased = %d' % len(data[data.target == 1]))\n",
        "\n",
        "plt.figure(figsize=(5,5))\n",
        "sns.countplot(data.target)\n",
        "plt.ylim(0,250)\n",
        "plt.legend(['Safe', 'Diseased'])\n",
        "plt.show()"
      ],
      "execution_count": null,
      "outputs": [
        {
          "output_type": "stream",
          "text": [
            "Total people safe = 138\n",
            "Total people diseased = 165\n"
          ],
          "name": "stdout"
        },
        {
          "output_type": "display_data",
          "data": {
            "text/plain": [
              "<Figure size 360x360 with 1 Axes>"
            ],
            "image/png": "[encoded data removed]"
          },
          "metadata": {
            "tags": [],
            "needs_background": "light"
          }
        }
      ]
    },
    {
      "cell_type": "code",
      "metadata": {
        "trusted": true,
        "id": "ptI_MkqhqOyw",
        "outputId": "bc1ef37d-96a6-4d17-b93c-58a24ca0a007"
      },
      "source": [
        "data['age'].hist(bins=25)"
      ],
      "execution_count": null,
      "outputs": [
        {
          "output_type": "execute_result",
          "data": {
            "text/plain": [
              "<matplotlib.axes._subplots.AxesSubplot at 0x7fb4a878e850>"
            ]
          },
          "metadata": {
            "tags": []
          },
          "execution_count": 10
        },
        {
          "output_type": "display_data",
          "data": {
            "text/plain": [
              "<Figure size 432x288 with 1 Axes>"
            ],
            "image/png": "[encoded data removed]"
          },
          "metadata": {
            "tags": [],
            "needs_background": "light"
          }
        }
      ]
    },
    {
      "cell_type": "code",
      "metadata": {
        "id": "UpWfPSb5_bOp",
        "trusted": true,
        "outputId": "aff67ddc-dd08-4763-da38-55e9b4224516"
      },
      "source": [
        "plt.figure(figsize=(18, 10))\n",
        "sns.countplot(x='age', hue='target', data=data)\n",
        "plt.legend([\"Haven't Disease\", \"Have Disease\"])\n",
        "plt.title('Heart Disease Frequency for Ages')\n",
        "plt.xlabel('Age')\n",
        "plt.ylabel('Frequency')\n",
        "plt.show()"
      ],
      "execution_count": null,
      "outputs": [
        {
          "output_type": "display_data",
          "data": {
            "text/plain": [
              "<Figure size 1296x720 with 1 Axes>"
            ],
            "image/png": "[encoded data removed]"
          },
          "metadata": {
            "tags": [],
            "needs_background": "light"
          }
        }
      ]
    },
    {
      "cell_type": "code",
      "metadata": {
        "trusted": true,
        "id": "GTTPzWoMqOy4",
        "outputId": "15ae371c-d5ae-4279-eef6-368052377374"
      },
      "source": [
        "data['age'].mode()"
      ],
      "execution_count": null,
      "outputs": [
        {
          "output_type": "execute_result",
          "data": {
            "text/plain": [
              "0    58\n",
              "dtype: int64"
            ]
          },
          "metadata": {
            "tags": []
          },
          "execution_count": 12
        }
      ]
    },
    {
      "cell_type": "markdown",
      "metadata": {
        "id": "C13v7447qOy-"
      },
      "source": [
        "As we can see that people have this disease is mostly on 58 years old"
      ]
    },
    {
      "cell_type": "markdown",
      "metadata": {
        "id": "aKOhqloJqOy-"
      },
      "source": [
        "Let's try to grouping them into three groups:\n",
        "- young\n",
        "- middle-age\n",
        "- old"
      ]
    },
    {
      "cell_type": "code",
      "metadata": {
        "trusted": true,
        "id": "Eo8noQzYqOy_",
        "outputId": "bd5a0c37-106b-4675-a5a1-8b6d9bf13fd8"
      },
      "source": [
        "young = data[data.age <= 40]\n",
        "middle = data[(data.age > 40) & (data.age <= 55)]\n",
        "old = data[data.age > 55]\n",
        "\n",
        "print('Total young people %d' % len(young))\n",
        "print('Total middle-aged people %d' % len(middle))\n",
        "print('Total old people %d' % len(old))\n",
        "\n",
        "ax = plt.figure(figsize=(8,4))\n",
        "plt.barh(['young', 'middle', 'old'], [len(young), len(middle), len(old)])\n",
        "plt.title('Total people in each group age')\n",
        "plt.show()"
      ],
      "execution_count": null,
      "outputs": [
        {
          "output_type": "stream",
          "text": [
            "Total young people 19\n",
            "Total middle-aged people 133\n",
            "Total old people 151\n"
          ],
          "name": "stdout"
        },
        {
          "output_type": "display_data",
          "data": {
            "text/plain": [
              "<Figure size 576x288 with 1 Axes>"
            ],
            "image/png": "[encoded data removed]"
          },
          "metadata": {
            "tags": [],
            "needs_background": "light"
          }
        }
      ]
    },
    {
      "cell_type": "code",
      "metadata": {
        "trusted": true,
        "id": "lmakiTqgqOzD",
        "outputId": "2f54c304-dbed-4cd4-e50e-a78e069ada34"
      },
      "source": [
        "age_m = [len(young[young.sex==1]), len(middle[middle.sex==1]), len(old[old.sex==1])]\n",
        "age_f = [len(young[young.sex==0]), len(middle[middle.sex==0]), len(old[old.sex==0])]\n",
        "xpos = np.arange(0,3)\n",
        "\n",
        "plt.xticks(xpos, ['young', 'middle', 'old'])\n",
        "plt.bar(xpos+0.2, age_m, width=0.4, label='Male')\n",
        "plt.bar(xpos-0.2, age_f, width=0.4, label='Female')\n",
        "plt.title('Total people in each group age by gender')\n",
        "plt.ylim(0,130)\n",
        "plt.legend()\n",
        "plt.show()"
      ],
      "execution_count": null,
      "outputs": [
        {
          "output_type": "display_data",
          "data": {
            "text/plain": [
              "<Figure size 432x288 with 1 Axes>"
            ],
            "image/png": "[encoded data removed]"
          },
          "metadata": {
            "tags": [],
            "needs_background": "light"
          }
        }
      ]
    },
    {
      "cell_type": "markdown",
      "metadata": {
        "id": "ocGpXGOTqOzH"
      },
      "source": [
        "each group dominated by male"
      ]
    },
    {
      "cell_type": "code",
      "metadata": {
        "trusted": true,
        "id": "Hezculn7qOzI",
        "outputId": "e7b67734-bc48-4d38-838d-1161cb6fd0c0"
      },
      "source": [
        "age_m = [len(young[young.target==1]), len(middle[middle.target==1]), len(old[old.target==1])]\n",
        "age_f = [len(young[young.target==0]), len(middle[middle.target==0]), len(old[old.target==0])]\n",
        "xpos = np.arange(0,3)\n",
        "\n",
        "plt.xticks(xpos, ['young', 'middle', 'old'])\n",
        "plt.bar(xpos+0.2, age_m, width=0.4, label='Diseased')\n",
        "plt.bar(xpos-0.2, age_f, width=0.4, label='Safe')\n",
        "plt.title('Total diseased and safe people on each group age')\n",
        "plt.ylim(0,130)\n",
        "plt.legend()\n",
        "plt.show()"
      ],
      "execution_count": null,
      "outputs": [
        {
          "output_type": "display_data",
          "data": {
            "text/plain": [
              "<Figure size 432x288 with 1 Axes>"
            ],
            "image/png": "[encoded data removed]"
          },
          "metadata": {
            "tags": [],
            "needs_background": "light"
          }
        }
      ]
    },
    {
      "cell_type": "markdown",
      "metadata": {
        "id": "-45o-U9eqOzW"
      },
      "source": [
        "unfortunately for young and middle group is dominted by people having heart disease"
      ]
    },
    {
      "cell_type": "code",
      "metadata": {
        "trusted": true,
        "id": "V90HqrYrqOzX",
        "outputId": "ef8a32bd-9630-4eaa-9a0a-2414ef0e1359"
      },
      "source": [
        "plt.figure(figsize=(8,5))\n",
        "plt.title('People safe and diseased by sex')\n",
        "sns.countplot(y=data.sex, hue=data.target)\n",
        "plt.yticks(np.arange(0,2), ['Female', 'Male'])\n",
        "plt.show()"
      ],
      "execution_count": null,
      "outputs": [
        {
          "output_type": "display_data",
          "data": {
            "text/plain": [
              "<Figure size 576x360 with 1 Axes>"
            ],
            "image/png": "[encoded data removed]"
          },
          "metadata": {
            "tags": [],
            "needs_background": "light"
          }
        }
      ]
    },
    {
      "cell_type": "markdown",
      "metadata": {
        "id": "2mhaVw3PqOzf"
      },
      "source": [
        "but by sex, female dominating in heart disease"
      ]
    },
    {
      "cell_type": "code",
      "metadata": {
        "trusted": true,
        "id": "OhKdX2zAqOzg",
        "outputId": "ba5787c4-f580-49ed-e556-b20a45418278"
      },
      "source": [
        "fig = plt.figure(figsize=(15,6))\n",
        "plt.title('People safe and diseased by sex and group age')\n",
        "plt.axis('off')\n",
        "\n",
        "ax1 = fig.add_subplot(131)\n",
        "sns.countplot(young.sex, hue=young.target, ax=ax1)\n",
        "ax1.set_xticklabels(['Male', 'Female'])\n",
        "ax1.set_ylim(0,100)\n",
        "\n",
        "ax2 = fig.add_subplot(132)\n",
        "sns.countplot(middle.sex, hue=middle.target, ax=ax2)\n",
        "ax2.set_xticklabels(['Male', 'Female'])\n",
        "ax2.set_ylim(0,100)\n",
        "\n",
        "ax3 = fig.add_subplot(133)\n",
        "sns.countplot(old.sex, hue=old.target, ax=ax3)\n",
        "ax3.set_xticklabels(['Male', 'Female'])\n",
        "ax3.set_ylim(0,100)\n",
        "\n",
        "plt.show()"
      ],
      "execution_count": null,
      "outputs": [
        {
          "output_type": "display_data",
          "data": {
            "text/plain": [
              "<Figure size 1080x432 with 4 Axes>"
            ],
            "image/png": "[encoded data removed]"
          },
          "metadata": {
            "tags": [],
            "needs_background": "light"
          }
        }
      ]
    },
    {
      "cell_type": "code",
      "metadata": {
        "trusted": true,
        "id": "ebNWoW1g8YAN",
        "outputId": "9e91ef05-a15c-4a2d-d0e8-07d51c423a34"
      },
      "source": [
        "sns.countplot(x='chest_pain_type', hue=\"target\", data=data)\n",
        "plt.title(\"People safe and diseased grouped by chest pain type\")\n",
        "plt.show()"
      ],
      "execution_count": null,
      "outputs": [
        {
          "output_type": "display_data",
          "data": {
            "text/plain": [
              "<Figure size 432x288 with 1 Axes>"
            ],
            "image/png": "[encoded data removed]"
          },
          "metadata": {
            "tags": [],
            "needs_background": "light"
          }
        }
      ]
    },
    {
      "cell_type": "markdown",
      "metadata": {
        "id": "SwWvX-Ol8YAT"
      },
      "source": [
        "Note:\n",
        "* Value 0: typical angina\n",
        "* Value 1: atypical angina\n",
        "* Value 2: non-anginal pain\n",
        "* Value 3: asymptomatic 0-3.\n",
        "\n",
        "\n",
        "Non-aginal pain become the most common type of chest pain among heart disease patients. Furthermore, there are several patients who dont have chest pain but still have heart disease."
      ]
    },
    {
      "cell_type": "code",
      "metadata": {
        "trusted": true,
        "id": "9SJopg5m8YAU",
        "outputId": "389a06f2-bf4c-462b-a763-5a5a104dfad3"
      },
      "source": [
        "sns.barplot(x=\"target\", y='resting_blood_pressure',data = data)\n",
        "plt.title('People safe and diseased grouped by their blood pressure')\n",
        "plt.show()"
      ],
      "execution_count": null,
      "outputs": [
        {
          "output_type": "display_data",
          "data": {
            "text/plain": [
              "<Figure size 432x288 with 1 Axes>"
            ],
            "image/png": "[encoded data removed]"
          },
          "metadata": {
            "tags": [],
            "needs_background": "light"
          }
        }
      ]
    },
    {
      "cell_type": "markdown",
      "metadata": {
        "id": "zxjv1azM8YAZ"
      },
      "source": [
        "heart disease patients have lower blood pressure but not significant."
      ]
    },
    {
      "cell_type": "code",
      "metadata": {
        "trusted": true,
        "id": "Ec9H4jLb8YAZ",
        "outputId": "cd036b34-cfe0-4af5-a42a-4fd076809574"
      },
      "source": [
        "sns.barplot(x=\"target\", y='serum_cholesterol',data = data)\n",
        "plt.title('People safe and diseased grouped by their cholesterol')\n",
        "plt.show()"
      ],
      "execution_count": null,
      "outputs": [
        {
          "output_type": "display_data",
          "data": {
            "text/plain": [
              "<Figure size 432x288 with 1 Axes>"
            ],
            "image/png": "[encoded data removed]"
          },
          "metadata": {
            "tags": [],
            "needs_background": "light"
          }
        }
      ]
    },
    {
      "cell_type": "markdown",
      "metadata": {
        "id": "dCuPUGho8YAd"
      },
      "source": [
        "heart disease patients have lower cholesterol but not significant."
      ]
    },
    {
      "cell_type": "code",
      "metadata": {
        "trusted": true,
        "id": "P3-huU5l8YAe",
        "outputId": "3e7cfcfe-ad1f-4630-a346-5df27b92a9b9"
      },
      "source": [
        "sns.countplot(hue='fasting_blood_sugar',x ='target',data = data)\n",
        "plt.title('People safe and diseased grouped by their cholesterol their Fasting Blood Sugar')\n",
        "plt.show()"
      ],
      "execution_count": null,
      "outputs": [
        {
          "output_type": "display_data",
          "data": {
            "text/plain": [
              "<Figure size 432x288 with 1 Axes>"
            ],
            "image/png": "[encoded data removed]"
          },
          "metadata": {
            "tags": [],
            "needs_background": "light"
          }
        }
      ]
    },
    {
      "cell_type": "markdown",
      "metadata": {
        "id": "o-XP43RH8YAk"
      },
      "source": [
        "* Blue: Fasting Blood Sugar < 120 mg/dl\n",
        "* Orange: Fasting Blood Sugar > 120 mg/dl\n",
        "\n",
        "Heart disease is mostly found in people who have fasting blood sugar <120 mg/dl but this cannot be a verdict that a person potentially having a heart disease since the same trend is also found in people who are not have a heart disease."
      ]
    },
    {
      "cell_type": "code",
      "metadata": {
        "trusted": true,
        "id": "EGHoc-BT8YAl",
        "outputId": "6965ac9e-84a5-40a4-c1cf-9abb2d818cae"
      },
      "source": [
        "sns.countplot(x='rest_ecg', hue ='target', data = data)\n",
        "plt.title('People safe and diseased grouped by their ECG graph')\n",
        "plt.show()"
      ],
      "execution_count": null,
      "outputs": [
        {
          "output_type": "display_data",
          "data": {
            "text/plain": [
              "<Figure size 432x288 with 1 Axes>"
            ],
            "image/png": "[encoded data removed]"
          },
          "metadata": {
            "tags": [],
            "needs_background": "light"
          }
        }
      ]
    },
    {
      "cell_type": "code",
      "metadata": {
        "trusted": true,
        "id": "klUoztc18YAs",
        "outputId": "1a3b2be5-91cc-41d5-8807-f220c7050b7f"
      },
      "source": [
        "sns.barplot(x=\"target\", y='max_heart_rate',data= data)\n",
        "plt.title('People safe and diseased grouped by their Maximum Heart Rate')\n",
        "plt.show()"
      ],
      "execution_count": null,
      "outputs": [
        {
          "output_type": "display_data",
          "data": {
            "text/plain": [
              "<Figure size 432x288 with 1 Axes>"
            ],
            "image/png": "[encoded data removed]"
          },
          "metadata": {
            "tags": [],
            "needs_background": "light"
          }
        }
      ]
    },
    {
      "cell_type": "code",
      "metadata": {
        "trusted": true,
        "id": "GUjl3dbZ8YA0",
        "outputId": "888be779-bc1a-4ca8-fff8-a1fc73857d1b"
      },
      "source": [
        "sns.countplot(x='exercise_angina', hue ='target', data = data)\n",
        "plt.title('People safe and diseased grouped by their Exercise Induced Angina')\n",
        "plt.show()"
      ],
      "execution_count": null,
      "outputs": [
        {
          "output_type": "display_data",
          "data": {
            "text/plain": [
              "<Figure size 432x288 with 1 Axes>"
            ],
            "image/png": "[encoded data removed]"
          },
          "metadata": {
            "tags": [],
            "needs_background": "light"
          }
        }
      ]
    },
    {
      "cell_type": "code",
      "metadata": {
        "trusted": true,
        "id": "Uk7bTEWl8YA9",
        "outputId": "885ed00d-fd60-4656-a3e7-074dc7ac2c95"
      },
      "source": [
        "sns.countplot(hue='st_slope',x ='target',data = data)\n",
        "plt.title('People safe and diseased grouped by their depression value')\n",
        "plt.show()"
      ],
      "execution_count": null,
      "outputs": [
        {
          "output_type": "display_data",
          "data": {
            "text/plain": [
              "<Figure size 432x288 with 1 Axes>"
            ],
            "image/png": "[encoded data removed]"
          },
          "metadata": {
            "tags": [],
            "needs_background": "light"
          }
        }
      ]
    },
    {
      "cell_type": "code",
      "metadata": {
        "trusted": true,
        "id": "SEeWa_GX8YBF",
        "outputId": "b822c6c1-a6c3-451e-d87d-4e6e2b9f2849"
      },
      "source": [
        "sns.countplot(hue='num_major_vessels',x ='target',data = data)\n",
        "plt.title('People safe and diseased grouped by their Number Blood Vessel')\n",
        "plt.show()"
      ],
      "execution_count": null,
      "outputs": [
        {
          "output_type": "display_data",
          "data": {
            "text/plain": [
              "<Figure size 432x288 with 1 Axes>"
            ],
            "image/png": "[encoded data removed]"
          },
          "metadata": {
            "tags": [],
            "needs_background": "light"
          }
        }
      ]
    },
    {
      "cell_type": "code",
      "metadata": {
        "trusted": true,
        "id": "7DPXTFYo8YBM",
        "outputId": "264788f0-c063-4ed9-b9a8-1e4c6e5e1d4e"
      },
      "source": [
        "sns.countplot(hue='thalassemia',x ='target',data = data)\n",
        "plt.title('People safe and diseased grouped by their thalassemia type')\n",
        "plt.show()"
      ],
      "execution_count": null,
      "outputs": [
        {
          "output_type": "display_data",
          "data": {
            "text/plain": [
              "<Figure size 432x288 with 1 Axes>"
            ],
            "image/png": "[encoded data removed]"
          },
          "metadata": {
            "tags": [],
            "needs_background": "light"
          }
        }
      ]
    },
    {
      "cell_type": "markdown",
      "metadata": {
        "id": "jClGFg-DqOzl"
      },
      "source": [
        "## Find Correlation between Data"
      ]
    },
    {
      "cell_type": "code",
      "metadata": {
        "trusted": true,
        "id": "-2_XavlTqOzm",
        "outputId": "5d461527-a7ed-4361-ca6b-f7c63c25e3f7"
      },
      "source": [
        "plt.figure(figsize=(10,8))\n",
        "plt.title('Correlation between variable before outlier removal')\n",
        "sns.heatmap(data.corr(), annot=True, fmt='.1f')\n",
        "plt.show()"
      ],
      "execution_count": null,
      "outputs": [
        {
          "output_type": "display_data",
          "data": {
            "text/plain": [
              "<Figure size 720x576 with 2 Axes>"
            ],
            "image/png": "[encoded data removed]"
          },
          "metadata": {
            "tags": [],
            "needs_background": "light"
          }
        }
      ]
    },
    {
      "cell_type": "code",
      "metadata": {
        "trusted": true,
        "id": "QNXqbToQqOzt",
        "outputId": "912e6fa6-4727-446b-fdb9-2e47ada9e3ba"
      },
      "source": [
        "# sns.scatterplot('age', 'st_depression', data=data)\n",
        "plt.figure(figsize=(8,4))\n",
        "sns.pairplot(data[['age', 'st_depression', 'serum_cholesterol', 'resting_blood_pressure', 'max_heart_rate']])\n",
        "plt.show"
      ],
      "execution_count": null,
      "outputs": [
        {
          "output_type": "execute_result",
          "data": {
            "text/plain": [
              "<function matplotlib.pyplot.show(*args, **kw)>"
            ]
          },
          "metadata": {
            "tags": []
          },
          "execution_count": 29
        },
        {
          "output_type": "display_data",
          "data": {
            "text/plain": [
              "<Figure size 576x288 with 0 Axes>"
            ]
          },
          "metadata": {
            "tags": []
          }
        },
        {
          "output_type": "display_data",
          "data": {
            "text/plain": [
              "<Figure size 900x900 with 30 Axes>"
            ],
            "image/png": "[encoded data removed]"
          },
          "metadata": {
            "tags": [],
            "needs_background": "light"
          }
        }
      ]
    },
    {
      "cell_type": "markdown",
      "metadata": {
        "id": "V1nZg-8JqOz4"
      },
      "source": [
        "Seems that data isn't correlated each other"
      ]
    },
    {
      "cell_type": "markdown",
      "metadata": {
        "id": "mwDBT1ubqOz5"
      },
      "source": [
        "# Preprocessing\n"
      ]
    },
    {
      "cell_type": "markdown",
      "metadata": {
        "id": "eXHDpvTGqOz6"
      },
      "source": [
        "### Binning Age Column"
      ]
    },
    {
      "cell_type": "code",
      "metadata": {
        "trusted": true,
        "id": "p2pa8RIdqOz8",
        "outputId": "743b736f-c4ca-47df-d840-9855c41ac1f7"
      },
      "source": [
        "def assign_col(row):\n",
        "    if row >= 29 and row <= 40:\n",
        "        return 1\n",
        "    elif row > 40 and row <= 55:\n",
        "        return 2\n",
        "    else:\n",
        "        return 3\n",
        "\n",
        "data['age_bin'] = data['age'].apply(assign_col)\n",
        "data = data[['age', 'age_bin', 'sex', 'chest_pain_type', 'resting_blood_pressure', 'serum_cholesterol', 'fasting_blood_sugar', 'rest_ecg', 'max_heart_rate',\n",
        "       'exercise_angina', 'st_depression', 'st_slope', 'num_major_vessels', 'thalassemia', 'target']]\n",
        "data.head()"
      ],
      "execution_count": null,
      "outputs": [
        {
          "output_type": "execute_result",
          "data": {
            "text/plain": [
              "   age  age_bin  sex  chest_pain_type  resting_blood_pressure  \\\n",
              "0   63        3    1                3                     145   \n",
              "1   37        1    1                2                     130   \n",
              "2   41        2    0                1                     130   \n",
              "3   56        3    1                1                     120   \n",
              "4   57        3    0                0                     120   \n",
              "\n",
              "   serum_cholesterol  fasting_blood_sugar  rest_ecg  max_heart_rate  \\\n",
              "0                233                    1         0             150   \n",
              "1                250                    0         1             187   \n",
              "2                204                    0         0             172   \n",
              "3                236                    0         1             178   \n",
              "4                354                    0         1             163   \n",
              "\n",
              "   exercise_angina  st_depression  st_slope  num_major_vessels  thalassemia  \\\n",
              "0                0            2.3         0                  0            1   \n",
              "1                0            3.5         0                  0            2   \n",
              "2                0            1.4         2                  0            2   \n",
              "3                0            0.8         2                  0            2   \n",
              "4                1            0.6         2                  0            2   \n",
              "\n",
              "   target  \n",
              "0       1  \n",
              "1       1  \n",
              "2       1  \n",
              "3       1  \n",
              "4       1  "
            ],
            "text/html": [
              "<div>\n",
              "<style scoped>\n",
              "    .dataframe tbody tr th:only-of-type {\n",
              "        vertical-align: middle;\n",
              "    }\n",
              "\n",
              "    .dataframe tbody tr th {\n",
              "        vertical-align: top;\n",
              "    }\n",
              "\n",
              "    .dataframe thead th {\n",
              "        text-align: right;\n",
              "    }\n",
              "</style>\n",
              "<table border=\"1\" class=\"dataframe\">\n",
              "  <thead>\n",
              "    <tr style=\"text-align: right;\">\n",
              "      <th></th>\n",
              "      <th>age</th>\n",
              "      <th>age_bin</th>\n",
              "      <th>sex</th>\n",
              "      <th>chest_pain_type</th>\n",
              "      <th>resting_blood_pressure</th>\n",
              "      <th>serum_cholesterol</th>\n",
              "      <th>fasting_blood_sugar</th>\n",
              "      <th>rest_ecg</th>\n",
              "      <th>max_heart_rate</th>\n",
              "      <th>exercise_angina</th>\n",
              "      <th>st_depression</th>\n",
              "      <th>st_slope</th>\n",
              "      <th>num_major_vessels</th>\n",
              "      <th>thalassemia</th>\n",
              "      <th>target</th>\n",
              "    </tr>\n",
              "  </thead>\n",
              "  <tbody>\n",
              "    <tr>\n",
              "      <th>0</th>\n",
              "      <td>63</td>\n",
              "      <td>3</td>\n",
              "      <td>1</td>\n",
              "      <td>3</td>\n",
              "      <td>145</td>\n",
              "      <td>233</td>\n",
              "      <td>1</td>\n",
              "      <td>0</td>\n",
              "      <td>150</td>\n",
              "      <td>0</td>\n",
              "      <td>2.3</td>\n",
              "      <td>0</td>\n",
              "      <td>0</td>\n",
              "      <td>1</td>\n",
              "      <td>1</td>\n",
              "    </tr>\n",
              "    <tr>\n",
              "      <th>1</th>\n",
              "      <td>37</td>\n",
              "      <td>1</td>\n",
              "      <td>1</td>\n",
              "      <td>2</td>\n",
              "      <td>130</td>\n",
              "      <td>250</td>\n",
              "      <td>0</td>\n",
              "      <td>1</td>\n",
              "      <td>187</td>\n",
              "      <td>0</td>\n",
              "      <td>3.5</td>\n",
              "      <td>0</td>\n",
              "      <td>0</td>\n",
              "      <td>2</td>\n",
              "      <td>1</td>\n",
              "    </tr>\n",
              "    <tr>\n",
              "      <th>2</th>\n",
              "      <td>41</td>\n",
              "      <td>2</td>\n",
              "      <td>0</td>\n",
              "      <td>1</td>\n",
              "      <td>130</td>\n",
              "      <td>204</td>\n",
              "      <td>0</td>\n",
              "      <td>0</td>\n",
              "      <td>172</td>\n",
              "      <td>0</td>\n",
              "      <td>1.4</td>\n",
              "      <td>2</td>\n",
              "      <td>0</td>\n",
              "      <td>2</td>\n",
              "      <td>1</td>\n",
              "    </tr>\n",
              "    <tr>\n",
              "      <th>3</th>\n",
              "      <td>56</td>\n",
              "      <td>3</td>\n",
              "      <td>1</td>\n",
              "      <td>1</td>\n",
              "      <td>120</td>\n",
              "      <td>236</td>\n",
              "      <td>0</td>\n",
              "      <td>1</td>\n",
              "      <td>178</td>\n",
              "      <td>0</td>\n",
              "      <td>0.8</td>\n",
              "      <td>2</td>\n",
              "      <td>0</td>\n",
              "      <td>2</td>\n",
              "      <td>1</td>\n",
              "    </tr>\n",
              "    <tr>\n",
              "      <th>4</th>\n",
              "      <td>57</td>\n",
              "      <td>3</td>\n",
              "      <td>0</td>\n",
              "      <td>0</td>\n",
              "      <td>120</td>\n",
              "      <td>354</td>\n",
              "      <td>0</td>\n",
              "      <td>1</td>\n",
              "      <td>163</td>\n",
              "      <td>1</td>\n",
              "      <td>0.6</td>\n",
              "      <td>2</td>\n",
              "      <td>0</td>\n",
              "      <td>2</td>\n",
              "      <td>1</td>\n",
              "    </tr>\n",
              "  </tbody>\n",
              "</table>\n",
              "</div>"
            ]
          },
          "metadata": {
            "tags": []
          },
          "execution_count": 30
        }
      ]
    },
    {
      "cell_type": "markdown",
      "metadata": {
        "id": "qVhQzblJqO0B"
      },
      "source": [
        "## Find Outliers Data"
      ]
    },
    {
      "cell_type": "code",
      "metadata": {
        "trusted": true,
        "id": "_CzyRof7qO0B",
        "outputId": "d7d60c59-b5f8-4f38-e67e-8d3a182a8a38"
      },
      "source": [
        "plt.figure(figsize=(7,8))\n",
        "plt.title('Boxplot Initial Data')\n",
        "\n",
        "ax1 = plt.subplot(221)\n",
        "ax1.boxplot(data['st_depression'])\n",
        "ax1.set_xticklabels(['st_depression'])\n",
        "\n",
        "ax2 = plt.subplot(222)\n",
        "ax2.boxplot(data['serum_cholesterol'])\n",
        "ax2.set_xticklabels(['serum_cholesterol'])\n",
        "\n",
        "ax3 = plt.subplot(223)\n",
        "ax3.boxplot(data['resting_blood_pressure'])\n",
        "ax3.set_xticklabels(['resting_blood_pressure'])\n",
        "\n",
        "ax4 = plt.subplot(224)\n",
        "ax4.boxplot(data['max_heart_rate'])\n",
        "ax4.set_xticklabels(['max_heart_rate'])\n",
        "\n",
        "plt.show()"
      ],
      "execution_count": null,
      "outputs": [
        {
          "output_type": "display_data",
          "data": {
            "text/plain": [
              "<Figure size 504x576 with 4 Axes>"
            ],
            "image/png": "[encoded data removed]"
          },
          "metadata": {
            "tags": [],
            "needs_background": "light"
          }
        }
      ]
    },
    {
      "cell_type": "markdown",
      "metadata": {
        "id": "bzhz8ItFqO0F"
      },
      "source": [
        "As we can see that each of continuous variable having outliers."
      ]
    },
    {
      "cell_type": "markdown",
      "metadata": {
        "id": "pinDJFWCqO0F"
      },
      "source": [
        "#### Let's handle outliers data"
      ]
    },
    {
      "cell_type": "code",
      "metadata": {
        "trusted": true,
        "id": "tquznRaxqO0G"
      },
      "source": [
        "def remove_outliers(df, column):\n",
        "    upper = df[column].quantile(.95)\n",
        "    lower = df[column].quantile(.05)\n",
        "    \n",
        "    out = df[(df[column] > upper) | (df[column] < lower)]\n",
        "    print('Total outlier %s = %d' % (column, len(out)))\n",
        "    \n",
        "    df = df[(df[column] < upper) & (df[column] > lower)]\n",
        "    return df"
      ],
      "execution_count": null,
      "outputs": []
    },
    {
      "cell_type": "code",
      "metadata": {
        "trusted": true,
        "id": "RAmcaLq6qO0K",
        "outputId": "fa78f40d-2107-4d78-825e-9ae36e331c09"
      },
      "source": [
        "# before remove outlier\n",
        "len(data)"
      ],
      "execution_count": null,
      "outputs": [
        {
          "output_type": "execute_result",
          "data": {
            "text/plain": [
              "303"
            ]
          },
          "metadata": {
            "tags": []
          },
          "execution_count": 33
        }
      ]
    },
    {
      "cell_type": "code",
      "metadata": {
        "trusted": true,
        "id": "756flxgpqO0Z",
        "outputId": "e30a67c9-e109-4fb0-ec1b-9cd11f6552b6"
      },
      "source": [
        "columns = ['st_depression', 'serum_cholesterol', 'resting_blood_pressure', 'max_heart_rate']\n",
        "\n",
        "# remove outlier\n",
        "data_clean = data\n",
        "for i in columns:\n",
        "    data_clean = remove_outliers(data_clean, i)\n",
        "\n",
        "data_clean = data_clean.reset_index()\n",
        "\n",
        "# after remove outlier\n",
        "print('=====================')\n",
        "print('After outlier removal = %d ' % len(data_clean))"
      ],
      "execution_count": null,
      "outputs": [
        {
          "output_type": "stream",
          "text": [
            "Total outlier st_depression = 14\n",
            "Total outlier serum_cholesterol = 20\n",
            "Total outlier resting_blood_pressure = 16\n",
            "Total outlier max_heart_rate = 14\n",
            "=====================\n",
            "After outlier removal = 125 \n"
          ],
          "name": "stdout"
        }
      ]
    },
    {
      "cell_type": "code",
      "metadata": {
        "trusted": true,
        "id": "7t6rvT9FqO01",
        "outputId": "08d6720e-d46d-4671-eac8-be8acae6e88a"
      },
      "source": [
        "plt.figure(figsize=(7,8))\n",
        "\n",
        "ax1 = plt.subplot(221)\n",
        "ax1.boxplot(data_clean['st_depression'])\n",
        "ax1.set_xticklabels(['st_depression'])\n",
        "\n",
        "ax2 = plt.subplot(222)\n",
        "ax2.boxplot(data_clean['serum_cholesterol'])\n",
        "ax2.set_xticklabels(['serum_cholesterol'])\n",
        "\n",
        "ax3 = plt.subplot(223)\n",
        "ax3.boxplot(data_clean['resting_blood_pressure'])\n",
        "ax3.set_xticklabels(['resting_blood_pressure'])\n",
        "\n",
        "ax4 = plt.subplot(224)\n",
        "ax4.boxplot(data_clean['max_heart_rate'])\n",
        "ax4.set_xticklabels(['max_heart_rate'])\n",
        "\n",
        "plt.show()"
      ],
      "execution_count": null,
      "outputs": [
        {
          "output_type": "display_data",
          "data": {
            "text/plain": [
              "<Figure size 504x576 with 4 Axes>"
            ],
            "image/png": "[encoded data removed]"
          },
          "metadata": {
            "tags": [],
            "needs_background": "light"
          }
        }
      ]
    },
    {
      "cell_type": "markdown",
      "metadata": {
        "id": "HIzDavQ7qO08"
      },
      "source": [
        "## Feature Selection"
      ]
    },
    {
      "cell_type": "markdown",
      "metadata": {
        "id": "cHFp5ew3qO0_"
      },
      "source": [
        "#### Let's try to do Chi-Test\n",
        "\n",
        "The hypothesis is:\n",
        "\n",
        "Null Hypothesis (H0): There is no relationship between the variables\n",
        "Alternative Hypothesis (H1): There is a relationship between variables"
      ]
    },
    {
      "cell_type": "code",
      "metadata": {
        "trusted": true,
        "id": "apCgJu2kqO1E",
        "outputId": "90fc53ba-17fd-48e9-c5c7-7e4e64bc0b3e"
      },
      "source": [
        "from scipy.stats import chi2_contingency\n",
        "\n",
        "cat_col = ['age_bin', 'sex', 'chest_pain_type', 'st_slope', 'thalassemia']\n",
        "chi2_check = []\n",
        "chi_score = []\n",
        "\n",
        "for i in cat_col:\n",
        "    chi_test = chi2_contingency(pd.crosstab(data['target'], data[i]))[1]\n",
        "    chi_score.append(chi_test)\n",
        "    if chi_test < 0.05:\n",
        "        chi2_check.append('Reject Null Hypothesis')\n",
        "    else:\n",
        "        chi2_check.append('Fail to Reject Null Hypothesis')\n",
        "res = pd.DataFrame(data = [cat_col, chi2_check, chi_score] \n",
        "             ).T \n",
        "res.columns = ['Column', 'Hypothesis', 'Chi Score']\n",
        "res"
      ],
      "execution_count": null,
      "outputs": [
        {
          "output_type": "execute_result",
          "data": {
            "text/plain": [
              "            Column              Hypothesis    Chi Score\n",
              "0          age_bin  Reject Null Hypothesis  1.86176e-05\n",
              "1              sex  Reject Null Hypothesis  1.87678e-06\n",
              "2  chest_pain_type  Reject Null Hypothesis   1.3343e-17\n",
              "3         st_slope  Reject Null Hypothesis  4.83068e-11\n",
              "4      thalassemia  Reject Null Hypothesis  2.23335e-18"
            ],
            "text/html": [
              "<div>\n",
              "<style scoped>\n",
              "    .dataframe tbody tr th:only-of-type {\n",
              "        vertical-align: middle;\n",
              "    }\n",
              "\n",
              "    .dataframe tbody tr th {\n",
              "        vertical-align: top;\n",
              "    }\n",
              "\n",
              "    .dataframe thead th {\n",
              "        text-align: right;\n",
              "    }\n",
              "</style>\n",
              "<table border=\"1\" class=\"dataframe\">\n",
              "  <thead>\n",
              "    <tr style=\"text-align: right;\">\n",
              "      <th></th>\n",
              "      <th>Column</th>\n",
              "      <th>Hypothesis</th>\n",
              "      <th>Chi Score</th>\n",
              "    </tr>\n",
              "  </thead>\n",
              "  <tbody>\n",
              "    <tr>\n",
              "      <th>0</th>\n",
              "      <td>age_bin</td>\n",
              "      <td>Reject Null Hypothesis</td>\n",
              "      <td>1.86176e-05</td>\n",
              "    </tr>\n",
              "    <tr>\n",
              "      <th>1</th>\n",
              "      <td>sex</td>\n",
              "      <td>Reject Null Hypothesis</td>\n",
              "      <td>1.87678e-06</td>\n",
              "    </tr>\n",
              "    <tr>\n",
              "      <th>2</th>\n",
              "      <td>chest_pain_type</td>\n",
              "      <td>Reject Null Hypothesis</td>\n",
              "      <td>1.3343e-17</td>\n",
              "    </tr>\n",
              "    <tr>\n",
              "      <th>3</th>\n",
              "      <td>st_slope</td>\n",
              "      <td>Reject Null Hypothesis</td>\n",
              "      <td>4.83068e-11</td>\n",
              "    </tr>\n",
              "    <tr>\n",
              "      <th>4</th>\n",
              "      <td>thalassemia</td>\n",
              "      <td>Reject Null Hypothesis</td>\n",
              "      <td>2.23335e-18</td>\n",
              "    </tr>\n",
              "  </tbody>\n",
              "</table>\n",
              "</div>"
            ]
          },
          "metadata": {
            "tags": []
          },
          "execution_count": 36
        }
      ]
    },
    {
      "cell_type": "markdown",
      "metadata": {
        "id": "P40O0Y1C_zL9"
      },
      "source": [
        "So, we can conclude that all categorical variables are important to target variables. We don't need a single one to delete it."
      ]
    },
    {
      "cell_type": "markdown",
      "metadata": {
        "id": "kgPXyCc2qO1L"
      },
      "source": [
        "## One Hot Encoding\n",
        "Without outlier removal\n"
      ]
    },
    {
      "cell_type": "code",
      "metadata": {
        "trusted": true,
        "id": "ro_4NaXJqO1M"
      },
      "source": [
        "# data without outlier removal\n",
        "# convert numbered label to string first\n",
        "data_enc = data\n",
        "data_enc.chest_pain_type = data_enc.chest_pain_type.map({1:'angina pectoris', 2:'atypical angina', 3:'non-anginal pain', 4:'SMI', 0:'absent'})\n",
        "\n",
        "data_enc.st_slope = data_enc.st_slope.map({1:'upsloping', 2:'horizontal', 3:'downsloping', 0:'absent'})\n",
        "\n",
        "data_enc.thalassemia = data_enc.thalassemia.map({1:'normal', 2:'fixed defect', 3:'reversable defect', 0:'absent'})\n",
        "\n",
        "data_enc.age_bin = data_enc.age_bin.map({1:'young', 2:'middle', 3:'old', 0:'absent'})\n",
        "data_enc.head()"
      ],
      "execution_count": null,
      "outputs": []
    },
    {
      "cell_type": "markdown",
      "metadata": {
        "id": "ZYXfi7eqqO1Z"
      },
      "source": [
        "### Now, separating feature and target variables"
      ]
    },
    {
      "cell_type": "code",
      "metadata": {
        "trusted": true,
        "id": "nCMXvCP4qO1a",
        "outputId": "07188817-23b3-4999-df74-3d160f0aaae9"
      },
      "source": [
        "X = data_enc.iloc[:, 1:-1]\n",
        "y = data_enc.iloc[:, -1]\n",
        "X.head(1)"
      ],
      "execution_count": null,
      "outputs": [
        {
          "output_type": "execute_result",
          "data": {
            "text/plain": [
              "  age_bin  sex   chest_pain_type  resting_blood_pressure  serum_cholesterol  \\\n",
              "0     old    1  non-anginal pain                     145                233   \n",
              "\n",
              "   fasting_blood_sugar  rest_ecg  max_heart_rate  exercise_angina  \\\n",
              "0                    1         0             150                0   \n",
              "\n",
              "   st_depression st_slope  num_major_vessels thalassemia  \n",
              "0            2.3   absent                  0      normal  "
            ],
            "text/html": [
              "<div>\n",
              "<style scoped>\n",
              "    .dataframe tbody tr th:only-of-type {\n",
              "        vertical-align: middle;\n",
              "    }\n",
              "\n",
              "    .dataframe tbody tr th {\n",
              "        vertical-align: top;\n",
              "    }\n",
              "\n",
              "    .dataframe thead th {\n",
              "        text-align: right;\n",
              "    }\n",
              "</style>\n",
              "<table border=\"1\" class=\"dataframe\">\n",
              "  <thead>\n",
              "    <tr style=\"text-align: right;\">\n",
              "      <th></th>\n",
              "      <th>age_bin</th>\n",
              "      <th>sex</th>\n",
              "      <th>chest_pain_type</th>\n",
              "      <th>resting_blood_pressure</th>\n",
              "      <th>serum_cholesterol</th>\n",
              "      <th>fasting_blood_sugar</th>\n",
              "      <th>rest_ecg</th>\n",
              "      <th>max_heart_rate</th>\n",
              "      <th>exercise_angina</th>\n",
              "      <th>st_depression</th>\n",
              "      <th>st_slope</th>\n",
              "      <th>num_major_vessels</th>\n",
              "      <th>thalassemia</th>\n",
              "    </tr>\n",
              "  </thead>\n",
              "  <tbody>\n",
              "    <tr>\n",
              "      <th>0</th>\n",
              "      <td>old</td>\n",
              "      <td>1</td>\n",
              "      <td>non-anginal pain</td>\n",
              "      <td>145</td>\n",
              "      <td>233</td>\n",
              "      <td>1</td>\n",
              "      <td>0</td>\n",
              "      <td>150</td>\n",
              "      <td>0</td>\n",
              "      <td>2.3</td>\n",
              "      <td>absent</td>\n",
              "      <td>0</td>\n",
              "      <td>normal</td>\n",
              "    </tr>\n",
              "  </tbody>\n",
              "</table>\n",
              "</div>"
            ]
          },
          "metadata": {
            "tags": []
          },
          "execution_count": 38
        }
      ]
    },
    {
      "cell_type": "markdown",
      "metadata": {
        "id": "JV8c9EjeqO1h"
      },
      "source": [
        "### Encoding Phase"
      ]
    },
    {
      "cell_type": "code",
      "metadata": {
        "trusted": true,
        "id": "8Mj83d7bqO1i",
        "outputId": "8d18cfea-d91c-4ecc-f6f0-ae9345b27e70"
      },
      "source": [
        "# Categorical columns\n",
        "cat_cols = ['age_bin', 'chest_pain_type', 'st_slope', 'thalassemia']\n",
        "\n",
        "for column in cat_cols:\n",
        "    dummies = pd.get_dummies(X[column], drop_first=True)\n",
        "    X[dummies.columns] = dummies\n",
        "    X.drop(column, axis=1, inplace=True)\n",
        "    \n",
        "X.head()"
      ],
      "execution_count": null,
      "outputs": [
        {
          "output_type": "execute_result",
          "data": {
            "text/plain": [
              "   sex  resting_blood_pressure  serum_cholesterol  fasting_blood_sugar  \\\n",
              "0    1                     145                233                    1   \n",
              "1    1                     130                250                    0   \n",
              "2    0                     130                204                    0   \n",
              "3    1                     120                236                    0   \n",
              "4    0                     120                354                    0   \n",
              "\n",
              "   rest_ecg  max_heart_rate  exercise_angina  st_depression  \\\n",
              "0         0             150                0            2.3   \n",
              "1         1             187                0            3.5   \n",
              "2         0             172                0            1.4   \n",
              "3         1             178                0            0.8   \n",
              "4         1             163                1            0.6   \n",
              "\n",
              "   num_major_vessels  old  young  angina pectoris  atypical angina  \\\n",
              "0                  0    1      0                0                0   \n",
              "1                  0    0      1                0                1   \n",
              "2                  0    0      0                1                0   \n",
              "3                  0    1      0                1                0   \n",
              "4                  0    1      0                0                0   \n",
              "\n",
              "   non-anginal pain  horizontal  upsloping  fixed defect  normal  \\\n",
              "0                 1           0          0             0       1   \n",
              "1                 0           0          0             1       0   \n",
              "2                 0           1          0             1       0   \n",
              "3                 0           1          0             1       0   \n",
              "4                 0           1          0             1       0   \n",
              "\n",
              "   reversable defect  \n",
              "0                  0  \n",
              "1                  0  \n",
              "2                  0  \n",
              "3                  0  \n",
              "4                  0  "
            ],
            "text/html": [
              "<div>\n",
              "<style scoped>\n",
              "    .dataframe tbody tr th:only-of-type {\n",
              "        vertical-align: middle;\n",
              "    }\n",
              "\n",
              "    .dataframe tbody tr th {\n",
              "        vertical-align: top;\n",
              "    }\n",
              "\n",
              "    .dataframe thead th {\n",
              "        text-align: right;\n",
              "    }\n",
              "</style>\n",
              "<table border=\"1\" class=\"dataframe\">\n",
              "  <thead>\n",
              "    <tr style=\"text-align: right;\">\n",
              "      <th></th>\n",
              "      <th>sex</th>\n",
              "      <th>resting_blood_pressure</th>\n",
              "      <th>serum_cholesterol</th>\n",
              "      <th>fasting_blood_sugar</th>\n",
              "      <th>rest_ecg</th>\n",
              "      <th>max_heart_rate</th>\n",
              "      <th>exercise_angina</th>\n",
              "      <th>st_depression</th>\n",
              "      <th>num_major_vessels</th>\n",
              "      <th>old</th>\n",
              "      <th>young</th>\n",
              "      <th>angina pectoris</th>\n",
              "      <th>atypical angina</th>\n",
              "      <th>non-anginal pain</th>\n",
              "      <th>horizontal</th>\n",
              "      <th>upsloping</th>\n",
              "      <th>fixed defect</th>\n",
              "      <th>normal</th>\n",
              "      <th>reversable defect</th>\n",
              "    </tr>\n",
              "  </thead>\n",
              "  <tbody>\n",
              "    <tr>\n",
              "      <th>0</th>\n",
              "      <td>1</td>\n",
              "      <td>145</td>\n",
              "      <td>233</td>\n",
              "      <td>1</td>\n",
              "      <td>0</td>\n",
              "      <td>150</td>\n",
              "      <td>0</td>\n",
              "      <td>2.3</td>\n",
              "      <td>0</td>\n",
              "      <td>1</td>\n",
              "      <td>0</td>\n",
              "      <td>0</td>\n",
              "      <td>0</td>\n",
              "      <td>1</td>\n",
              "      <td>0</td>\n",
              "      <td>0</td>\n",
              "      <td>0</td>\n",
              "      <td>1</td>\n",
              "      <td>0</td>\n",
              "    </tr>\n",
              "    <tr>\n",
              "      <th>1</th>\n",
              "      <td>1</td>\n",
              "      <td>130</td>\n",
              "      <td>250</td>\n",
              "      <td>0</td>\n",
              "      <td>1</td>\n",
              "      <td>187</td>\n",
              "      <td>0</td>\n",
              "      <td>3.5</td>\n",
              "      <td>0</td>\n",
              "      <td>0</td>\n",
              "      <td>1</td>\n",
              "      <td>0</td>\n",
              "      <td>1</td>\n",
              "      <td>0</td>\n",
              "      <td>0</td>\n",
              "      <td>0</td>\n",
              "      <td>1</td>\n",
              "      <td>0</td>\n",
              "      <td>0</td>\n",
              "    </tr>\n",
              "    <tr>\n",
              "      <th>2</th>\n",
              "      <td>0</td>\n",
              "      <td>130</td>\n",
              "      <td>204</td>\n",
              "      <td>0</td>\n",
              "      <td>0</td>\n",
              "      <td>172</td>\n",
              "      <td>0</td>\n",
              "      <td>1.4</td>\n",
              "      <td>0</td>\n",
              "      <td>0</td>\n",
              "      <td>0</td>\n",
              "      <td>1</td>\n",
              "      <td>0</td>\n",
              "      <td>0</td>\n",
              "      <td>1</td>\n",
              "      <td>0</td>\n",
              "      <td>1</td>\n",
              "      <td>0</td>\n",
              "      <td>0</td>\n",
              "    </tr>\n",
              "    <tr>\n",
              "      <th>3</th>\n",
              "      <td>1</td>\n",
              "      <td>120</td>\n",
              "      <td>236</td>\n",
              "      <td>0</td>\n",
              "      <td>1</td>\n",
              "      <td>178</td>\n",
              "      <td>0</td>\n",
              "      <td>0.8</td>\n",
              "      <td>0</td>\n",
              "      <td>1</td>\n",
              "      <td>0</td>\n",
              "      <td>1</td>\n",
              "      <td>0</td>\n",
              "      <td>0</td>\n",
              "      <td>1</td>\n",
              "      <td>0</td>\n",
              "      <td>1</td>\n",
              "      <td>0</td>\n",
              "      <td>0</td>\n",
              "    </tr>\n",
              "    <tr>\n",
              "      <th>4</th>\n",
              "      <td>0</td>\n",
              "      <td>120</td>\n",
              "      <td>354</td>\n",
              "      <td>0</td>\n",
              "      <td>1</td>\n",
              "      <td>163</td>\n",
              "      <td>1</td>\n",
              "      <td>0.6</td>\n",
              "      <td>0</td>\n",
              "      <td>1</td>\n",
              "      <td>0</td>\n",
              "      <td>0</td>\n",
              "      <td>0</td>\n",
              "      <td>0</td>\n",
              "      <td>1</td>\n",
              "      <td>0</td>\n",
              "      <td>1</td>\n",
              "      <td>0</td>\n",
              "      <td>0</td>\n",
              "    </tr>\n",
              "  </tbody>\n",
              "</table>\n",
              "</div>"
            ]
          },
          "metadata": {
            "tags": []
          },
          "execution_count": 39
        }
      ]
    },
    {
      "cell_type": "markdown",
      "metadata": {
        "id": "NPDjHeKHqO15"
      },
      "source": [
        "## Standardize Data\n",
        "Without outlier removal"
      ]
    },
    {
      "cell_type": "code",
      "metadata": {
        "trusted": true,
        "id": "K0GRocJOqO16",
        "outputId": "65ca4c4d-5b4e-431c-9b53-5ff77f45bd4e"
      },
      "source": [
        "from sklearn.model_selection import train_test_split, GridSearchCV\n",
        "\n",
        "# Splitting the data into test and train \n",
        "X_train, X_test, y_train, y_test = train_test_split(X, y, test_size=0.2, random_state=42)\n",
        "\n",
        "print(\"X-Train:\",X_train.shape)\n",
        "print(\"X-Test:\",X_test.shape)\n",
        "print(\"Y-Train:\",y_train.shape)\n",
        "print(\"Y-Test:\",y_test.shape)"
      ],
      "execution_count": null,
      "outputs": [
        {
          "output_type": "stream",
          "text": [
            "X-Train: (242, 19)\n",
            "X-Test: (61, 19)\n",
            "Y-Train: (242,)\n",
            "Y-Test: (61,)\n"
          ],
          "name": "stdout"
        }
      ]
    },
    {
      "cell_type": "code",
      "metadata": {
        "trusted": true,
        "id": "NimjVGvxqO1_",
        "outputId": "9be7dadb-49df-41e5-ded5-a341846883b8"
      },
      "source": [
        "from sklearn.preprocessing import StandardScaler\n",
        "\n",
        "num_cols = ['st_depression', 'serum_cholesterol', 'resting_blood_pressure', 'max_heart_rate']\n",
        "scaler = StandardScaler()\n",
        "scaler.fit(X_train[num_cols])\n",
        "\n",
        "X_train[num_cols] = scaler.transform(X_train[num_cols])\n",
        "X_test[num_cols] = scaler.transform(X_test[num_cols])\n",
        "\n",
        "X_train.head()"
      ],
      "execution_count": null,
      "outputs": [
        {
          "output_type": "stream",
          "text": [
            "/opt/conda/lib/python3.7/site-packages/ipykernel_launcher.py:7: SettingWithCopyWarning: \n",
            "A value is trying to be set on a copy of a slice from a DataFrame.\n",
            "Try using .loc[row_indexer,col_indexer] = value instead\n",
            "\n",
            "See the caveats in the documentation: https://pandas.pydata.org/pandas-docs/stable/user_guide/indexing.html#returning-a-view-versus-a-copy\n",
            "  import sys\n",
            "/opt/conda/lib/python3.7/site-packages/pandas/core/indexing.py:1736: SettingWithCopyWarning: \n",
            "A value is trying to be set on a copy of a slice from a DataFrame.\n",
            "Try using .loc[row_indexer,col_indexer] = value instead\n",
            "\n",
            "See the caveats in the documentation: https://pandas.pydata.org/pandas-docs/stable/user_guide/indexing.html#returning-a-view-versus-a-copy\n",
            "  isetter(loc, value[:, i].tolist())\n",
            "/opt/conda/lib/python3.7/site-packages/ipykernel_launcher.py:8: SettingWithCopyWarning: \n",
            "A value is trying to be set on a copy of a slice from a DataFrame.\n",
            "Try using .loc[row_indexer,col_indexer] = value instead\n",
            "\n",
            "See the caveats in the documentation: https://pandas.pydata.org/pandas-docs/stable/user_guide/indexing.html#returning-a-view-versus-a-copy\n",
            "  \n",
            "/opt/conda/lib/python3.7/site-packages/pandas/core/indexing.py:1736: SettingWithCopyWarning: \n",
            "A value is trying to be set on a copy of a slice from a DataFrame.\n",
            "Try using .loc[row_indexer,col_indexer] = value instead\n",
            "\n",
            "See the caveats in the documentation: https://pandas.pydata.org/pandas-docs/stable/user_guide/indexing.html#returning-a-view-versus-a-copy\n",
            "  isetter(loc, value[:, i].tolist())\n"
          ],
          "name": "stderr"
        },
        {
          "output_type": "execute_result",
          "data": {
            "text/plain": [
              "     sex  resting_blood_pressure  serum_cholesterol  fasting_blood_sugar  \\\n",
              "132    1               -0.616856           0.914034                    0   \n",
              "202    1                1.169491           0.439527                    0   \n",
              "196    1                1.169491          -0.300704                    0   \n",
              "75     0                0.276318           0.059921                    0   \n",
              "176    1               -0.795490          -0.319684                    1   \n",
              "\n",
              "     rest_ecg  max_heart_rate  exercise_angina  st_depression  \\\n",
              "132         1        0.532781                0      -0.920864   \n",
              "202         0       -1.753582                1      -0.193787   \n",
              "196         1       -0.139679                0       2.350982   \n",
              "75          0        0.487950                0       0.351521   \n",
              "176         1        0.443119                1       0.351521   \n",
              "\n",
              "     num_major_vessels  old  young  angina pectoris  atypical angina  \\\n",
              "132                  0    0      0                1                0   \n",
              "202                  0    1      0                0                0   \n",
              "196                  0    0      0                0                1   \n",
              "75                   0    0      0                1                0   \n",
              "176                  2    1      0                0                0   \n",
              "\n",
              "     non-anginal pain  horizontal  upsloping  fixed defect  normal  \\\n",
              "132                 0           1          0             1       0   \n",
              "202                 0           1          0             0       0   \n",
              "196                 0           0          1             1       0   \n",
              "75                  0           0          1             1       0   \n",
              "176                 0           1          0             0       0   \n",
              "\n",
              "     reversable defect  \n",
              "132                  0  \n",
              "202                  1  \n",
              "196                  0  \n",
              "75                   0  \n",
              "176                  1  "
            ],
            "text/html": [
              "<div>\n",
              "<style scoped>\n",
              "    .dataframe tbody tr th:only-of-type {\n",
              "        vertical-align: middle;\n",
              "    }\n",
              "\n",
              "    .dataframe tbody tr th {\n",
              "        vertical-align: top;\n",
              "    }\n",
              "\n",
              "    .dataframe thead th {\n",
              "        text-align: right;\n",
              "    }\n",
              "</style>\n",
              "<table border=\"1\" class=\"dataframe\">\n",
              "  <thead>\n",
              "    <tr style=\"text-align: right;\">\n",
              "      <th></th>\n",
              "      <th>sex</th>\n",
              "      <th>resting_blood_pressure</th>\n",
              "      <th>serum_cholesterol</th>\n",
              "      <th>fasting_blood_sugar</th>\n",
              "      <th>rest_ecg</th>\n",
              "      <th>max_heart_rate</th>\n",
              "      <th>exercise_angina</th>\n",
              "      <th>st_depression</th>\n",
              "      <th>num_major_vessels</th>\n",
              "      <th>old</th>\n",
              "      <th>young</th>\n",
              "      <th>angina pectoris</th>\n",
              "      <th>atypical angina</th>\n",
              "      <th>non-anginal pain</th>\n",
              "      <th>horizontal</th>\n",
              "      <th>upsloping</th>\n",
              "      <th>fixed defect</th>\n",
              "      <th>normal</th>\n",
              "      <th>reversable defect</th>\n",
              "    </tr>\n",
              "  </thead>\n",
              "  <tbody>\n",
              "    <tr>\n",
              "      <th>132</th>\n",
              "      <td>1</td>\n",
              "      <td>-0.616856</td>\n",
              "      <td>0.914034</td>\n",
              "      <td>0</td>\n",
              "      <td>1</td>\n",
              "      <td>0.532781</td>\n",
              "      <td>0</td>\n",
              "      <td>-0.920864</td>\n",
              "      <td>0</td>\n",
              "      <td>0</td>\n",
              "      <td>0</td>\n",
              "      <td>1</td>\n",
              "      <td>0</td>\n",
              "      <td>0</td>\n",
              "      <td>1</td>\n",
              "      <td>0</td>\n",
              "      <td>1</td>\n",
              "      <td>0</td>\n",
              "      <td>0</td>\n",
              "    </tr>\n",
              "    <tr>\n",
              "      <th>202</th>\n",
              "      <td>1</td>\n",
              "      <td>1.169491</td>\n",
              "      <td>0.439527</td>\n",
              "      <td>0</td>\n",
              "      <td>0</td>\n",
              "      <td>-1.753582</td>\n",
              "      <td>1</td>\n",
              "      <td>-0.193787</td>\n",
              "      <td>0</td>\n",
              "      <td>1</td>\n",
              "      <td>0</td>\n",
              "      <td>0</td>\n",
              "      <td>0</td>\n",
              "      <td>0</td>\n",
              "      <td>1</td>\n",
              "      <td>0</td>\n",
              "      <td>0</td>\n",
              "      <td>0</td>\n",
              "      <td>1</td>\n",
              "    </tr>\n",
              "    <tr>\n",
              "      <th>196</th>\n",
              "      <td>1</td>\n",
              "      <td>1.169491</td>\n",
              "      <td>-0.300704</td>\n",
              "      <td>0</td>\n",
              "      <td>1</td>\n",
              "      <td>-0.139679</td>\n",
              "      <td>0</td>\n",
              "      <td>2.350982</td>\n",
              "      <td>0</td>\n",
              "      <td>0</td>\n",
              "      <td>0</td>\n",
              "      <td>0</td>\n",
              "      <td>1</td>\n",
              "      <td>0</td>\n",
              "      <td>0</td>\n",
              "      <td>1</td>\n",
              "      <td>1</td>\n",
              "      <td>0</td>\n",
              "      <td>0</td>\n",
              "    </tr>\n",
              "    <tr>\n",
              "      <th>75</th>\n",
              "      <td>0</td>\n",
              "      <td>0.276318</td>\n",
              "      <td>0.059921</td>\n",
              "      <td>0</td>\n",
              "      <td>0</td>\n",
              "      <td>0.487950</td>\n",
              "      <td>0</td>\n",
              "      <td>0.351521</td>\n",
              "      <td>0</td>\n",
              "      <td>0</td>\n",
              "      <td>0</td>\n",
              "      <td>1</td>\n",
              "      <td>0</td>\n",
              "      <td>0</td>\n",
              "      <td>0</td>\n",
              "      <td>1</td>\n",
              "      <td>1</td>\n",
              "      <td>0</td>\n",
              "      <td>0</td>\n",
              "    </tr>\n",
              "    <tr>\n",
              "      <th>176</th>\n",
              "      <td>1</td>\n",
              "      <td>-0.795490</td>\n",
              "      <td>-0.319684</td>\n",
              "      <td>1</td>\n",
              "      <td>1</td>\n",
              "      <td>0.443119</td>\n",
              "      <td>1</td>\n",
              "      <td>0.351521</td>\n",
              "      <td>2</td>\n",
              "      <td>1</td>\n",
              "      <td>0</td>\n",
              "      <td>0</td>\n",
              "      <td>0</td>\n",
              "      <td>0</td>\n",
              "      <td>1</td>\n",
              "      <td>0</td>\n",
              "      <td>0</td>\n",
              "      <td>0</td>\n",
              "      <td>1</td>\n",
              "    </tr>\n",
              "  </tbody>\n",
              "</table>\n",
              "</div>"
            ]
          },
          "metadata": {
            "tags": []
          },
          "execution_count": 42
        }
      ]
    },
    {
      "cell_type": "markdown",
      "metadata": {
        "id": "MekZUFzPGQAI"
      },
      "source": [
        "## One Hot Encoding\n",
        "With outlier removal\n",
        "\n"
      ]
    },
    {
      "cell_type": "code",
      "metadata": {
        "trusted": true,
        "id": "WbWcQinUGQAN",
        "outputId": "d4d0a81e-d0ac-44e3-d323-62300ca7d8c8",
        "colab": {
          "base_uri": "https://localhost:8080/",
          "height": 236
        }
      },
      "source": [
        "# data without outlier removal\n",
        "# convert numbered label to string first\n",
        "data_enc_clean = data_clean\n",
        "data_enc_clean.chest_pain_type = data_enc_clean.chest_pain_type.map({1:'angina pectoris', 2:'atypical angina', 3:'non-anginal pain', 4:'SMI', 0:'absent'})\n",
        "\n",
        "data_enc_clean.st_slope = data_enc_clean.st_slope.map({1:'upsloping', 2:'horizontal', 3:'downsloping', 0:'absent'})\n",
        "\n",
        "data_enc_clean.thalassemia = data_enc_clean.thalassemia.map({1:'normal', 2:'fixed defect', 3:'reversable defect', 0:'absent'})\n",
        "\n",
        "data_enc_clean.age_bin = data_enc_clean.age_bin.map({1:'young', 2:'middle', 3:'old', 0:'absent'})\n",
        "data_enc_clean.head()"
      ],
      "execution_count": 1,
      "outputs": [
        {
          "output_type": "error",
          "ename": "NameError",
          "evalue": "ignored",
          "traceback": [
            "\u001b[0;31m---------------------------------------------------------------------------\u001b[0m",
            "\u001b[0;31mNameError\u001b[0m                                 Traceback (most recent call last)",
            "\u001b[0;32m<ipython-input-1-4ce715ef001e>\u001b[0m in \u001b[0;36m<module>\u001b[0;34m()\u001b[0m\n\u001b[1;32m      1\u001b[0m \u001b[0;31m# data without outlier removal\u001b[0m\u001b[0;34m\u001b[0m\u001b[0;34m\u001b[0m\u001b[0;34m\u001b[0m\u001b[0m\n\u001b[1;32m      2\u001b[0m \u001b[0;31m# convert numbered label to string first\u001b[0m\u001b[0;34m\u001b[0m\u001b[0;34m\u001b[0m\u001b[0;34m\u001b[0m\u001b[0m\n\u001b[0;32m----> 3\u001b[0;31m \u001b[0mdata_enc\u001b[0m \u001b[0;34m=\u001b[0m \u001b[0mdata\u001b[0m\u001b[0;34m\u001b[0m\u001b[0;34m\u001b[0m\u001b[0m\n\u001b[0m\u001b[1;32m      4\u001b[0m \u001b[0mdata_enc\u001b[0m\u001b[0;34m.\u001b[0m\u001b[0mchest_pain_type\u001b[0m \u001b[0;34m=\u001b[0m \u001b[0mdata_enc\u001b[0m\u001b[0;34m.\u001b[0m\u001b[0mchest_pain_type\u001b[0m\u001b[0;34m.\u001b[0m\u001b[0mmap\u001b[0m\u001b[0;34m(\u001b[0m\u001b[0;34m{\u001b[0m\u001b[0;36m1\u001b[0m\u001b[0;34m:\u001b[0m\u001b[0;34m'angina pectoris'\u001b[0m\u001b[0;34m,\u001b[0m \u001b[0;36m2\u001b[0m\u001b[0;34m:\u001b[0m\u001b[0;34m'atypical angina'\u001b[0m\u001b[0;34m,\u001b[0m \u001b[0;36m3\u001b[0m\u001b[0;34m:\u001b[0m\u001b[0;34m'non-anginal pain'\u001b[0m\u001b[0;34m,\u001b[0m \u001b[0;36m4\u001b[0m\u001b[0;34m:\u001b[0m\u001b[0;34m'SMI'\u001b[0m\u001b[0;34m,\u001b[0m \u001b[0;36m0\u001b[0m\u001b[0;34m:\u001b[0m\u001b[0;34m'absent'\u001b[0m\u001b[0;34m}\u001b[0m\u001b[0;34m)\u001b[0m\u001b[0;34m\u001b[0m\u001b[0;34m\u001b[0m\u001b[0m\n\u001b[1;32m      5\u001b[0m \u001b[0;34m\u001b[0m\u001b[0m\n",
            "\u001b[0;31mNameError\u001b[0m: name 'data' is not defined"
          ]
        }
      ]
    },
    {
      "cell_type": "markdown",
      "metadata": {
        "id": "bzqIzDu-GQAa"
      },
      "source": [
        "### Now, separating feature and target variables"
      ]
    },
    {
      "cell_type": "code",
      "metadata": {
        "trusted": true,
        "id": "kyAvjajkGQAc",
        "outputId": "07188817-23b3-4999-df74-3d160f0aaae9"
      },
      "source": [
        "X_clean = data_enc_clean.iloc[:, 1:-1]\n",
        "y_clean = data_enc_clean.iloc[:, -1]\n",
        "X_clean.head(1)"
      ],
      "execution_count": null,
      "outputs": [
        {
          "output_type": "execute_result",
          "data": {
            "text/plain": [
              "  age_bin  sex   chest_pain_type  resting_blood_pressure  serum_cholesterol  \\\n",
              "0     old    1  non-anginal pain                     145                233   \n",
              "\n",
              "   fasting_blood_sugar  rest_ecg  max_heart_rate  exercise_angina  \\\n",
              "0                    1         0             150                0   \n",
              "\n",
              "   st_depression st_slope  num_major_vessels thalassemia  \n",
              "0            2.3   absent                  0      normal  "
            ],
            "text/html": [
              "<div>\n",
              "<style scoped>\n",
              "    .dataframe tbody tr th:only-of-type {\n",
              "        vertical-align: middle;\n",
              "    }\n",
              "\n",
              "    .dataframe tbody tr th {\n",
              "        vertical-align: top;\n",
              "    }\n",
              "\n",
              "    .dataframe thead th {\n",
              "        text-align: right;\n",
              "    }\n",
              "</style>\n",
              "<table border=\"1\" class=\"dataframe\">\n",
              "  <thead>\n",
              "    <tr style=\"text-align: right;\">\n",
              "      <th></th>\n",
              "      <th>age_bin</th>\n",
              "      <th>sex</th>\n",
              "      <th>chest_pain_type</th>\n",
              "      <th>resting_blood_pressure</th>\n",
              "      <th>serum_cholesterol</th>\n",
              "      <th>fasting_blood_sugar</th>\n",
              "      <th>rest_ecg</th>\n",
              "      <th>max_heart_rate</th>\n",
              "      <th>exercise_angina</th>\n",
              "      <th>st_depression</th>\n",
              "      <th>st_slope</th>\n",
              "      <th>num_major_vessels</th>\n",
              "      <th>thalassemia</th>\n",
              "    </tr>\n",
              "  </thead>\n",
              "  <tbody>\n",
              "    <tr>\n",
              "      <th>0</th>\n",
              "      <td>old</td>\n",
              "      <td>1</td>\n",
              "      <td>non-anginal pain</td>\n",
              "      <td>145</td>\n",
              "      <td>233</td>\n",
              "      <td>1</td>\n",
              "      <td>0</td>\n",
              "      <td>150</td>\n",
              "      <td>0</td>\n",
              "      <td>2.3</td>\n",
              "      <td>absent</td>\n",
              "      <td>0</td>\n",
              "      <td>normal</td>\n",
              "    </tr>\n",
              "  </tbody>\n",
              "</table>\n",
              "</div>"
            ]
          },
          "metadata": {
            "tags": []
          },
          "execution_count": 38
        }
      ]
    },
    {
      "cell_type": "markdown",
      "metadata": {
        "id": "XdooP9vTGQAn"
      },
      "source": [
        "### Encoding Phase"
      ]
    },
    {
      "cell_type": "code",
      "metadata": {
        "trusted": true,
        "id": "uNqi9z3EGQAo",
        "outputId": "8d18cfea-d91c-4ecc-f6f0-ae9345b27e70"
      },
      "source": [
        "# Categorical columns\n",
        "cat_cols = ['age_bin', 'chest_pain_type', 'st_slope', 'thalassemia']\n",
        "\n",
        "for column in cat_cols:\n",
        "    dummies = pd.get_dummies(X_clean[column], drop_first=True)\n",
        "    X_clean[dummies.columns] = dummies\n",
        "    X_clean.drop(column, axis=1, inplace=True)\n",
        "    \n",
        "X_clean.head()"
      ],
      "execution_count": null,
      "outputs": [
        {
          "output_type": "execute_result",
          "data": {
            "text/plain": [
              "   sex  resting_blood_pressure  serum_cholesterol  fasting_blood_sugar  \\\n",
              "0    1                     145                233                    1   \n",
              "1    1                     130                250                    0   \n",
              "2    0                     130                204                    0   \n",
              "3    1                     120                236                    0   \n",
              "4    0                     120                354                    0   \n",
              "\n",
              "   rest_ecg  max_heart_rate  exercise_angina  st_depression  \\\n",
              "0         0             150                0            2.3   \n",
              "1         1             187                0            3.5   \n",
              "2         0             172                0            1.4   \n",
              "3         1             178                0            0.8   \n",
              "4         1             163                1            0.6   \n",
              "\n",
              "   num_major_vessels  old  young  angina pectoris  atypical angina  \\\n",
              "0                  0    1      0                0                0   \n",
              "1                  0    0      1                0                1   \n",
              "2                  0    0      0                1                0   \n",
              "3                  0    1      0                1                0   \n",
              "4                  0    1      0                0                0   \n",
              "\n",
              "   non-anginal pain  horizontal  upsloping  fixed defect  normal  \\\n",
              "0                 1           0          0             0       1   \n",
              "1                 0           0          0             1       0   \n",
              "2                 0           1          0             1       0   \n",
              "3                 0           1          0             1       0   \n",
              "4                 0           1          0             1       0   \n",
              "\n",
              "   reversable defect  \n",
              "0                  0  \n",
              "1                  0  \n",
              "2                  0  \n",
              "3                  0  \n",
              "4                  0  "
            ],
            "text/html": [
              "<div>\n",
              "<style scoped>\n",
              "    .dataframe tbody tr th:only-of-type {\n",
              "        vertical-align: middle;\n",
              "    }\n",
              "\n",
              "    .dataframe tbody tr th {\n",
              "        vertical-align: top;\n",
              "    }\n",
              "\n",
              "    .dataframe thead th {\n",
              "        text-align: right;\n",
              "    }\n",
              "</style>\n",
              "<table border=\"1\" class=\"dataframe\">\n",
              "  <thead>\n",
              "    <tr style=\"text-align: right;\">\n",
              "      <th></th>\n",
              "      <th>sex</th>\n",
              "      <th>resting_blood_pressure</th>\n",
              "      <th>serum_cholesterol</th>\n",
              "      <th>fasting_blood_sugar</th>\n",
              "      <th>rest_ecg</th>\n",
              "      <th>max_heart_rate</th>\n",
              "      <th>exercise_angina</th>\n",
              "      <th>st_depression</th>\n",
              "      <th>num_major_vessels</th>\n",
              "      <th>old</th>\n",
              "      <th>young</th>\n",
              "      <th>angina pectoris</th>\n",
              "      <th>atypical angina</th>\n",
              "      <th>non-anginal pain</th>\n",
              "      <th>horizontal</th>\n",
              "      <th>upsloping</th>\n",
              "      <th>fixed defect</th>\n",
              "      <th>normal</th>\n",
              "      <th>reversable defect</th>\n",
              "    </tr>\n",
              "  </thead>\n",
              "  <tbody>\n",
              "    <tr>\n",
              "      <th>0</th>\n",
              "      <td>1</td>\n",
              "      <td>145</td>\n",
              "      <td>233</td>\n",
              "      <td>1</td>\n",
              "      <td>0</td>\n",
              "      <td>150</td>\n",
              "      <td>0</td>\n",
              "      <td>2.3</td>\n",
              "      <td>0</td>\n",
              "      <td>1</td>\n",
              "      <td>0</td>\n",
              "      <td>0</td>\n",
              "      <td>0</td>\n",
              "      <td>1</td>\n",
              "      <td>0</td>\n",
              "      <td>0</td>\n",
              "      <td>0</td>\n",
              "      <td>1</td>\n",
              "      <td>0</td>\n",
              "    </tr>\n",
              "    <tr>\n",
              "      <th>1</th>\n",
              "      <td>1</td>\n",
              "      <td>130</td>\n",
              "      <td>250</td>\n",
              "      <td>0</td>\n",
              "      <td>1</td>\n",
              "      <td>187</td>\n",
              "      <td>0</td>\n",
              "      <td>3.5</td>\n",
              "      <td>0</td>\n",
              "      <td>0</td>\n",
              "      <td>1</td>\n",
              "      <td>0</td>\n",
              "      <td>1</td>\n",
              "      <td>0</td>\n",
              "      <td>0</td>\n",
              "      <td>0</td>\n",
              "      <td>1</td>\n",
              "      <td>0</td>\n",
              "      <td>0</td>\n",
              "    </tr>\n",
              "    <tr>\n",
              "      <th>2</th>\n",
              "      <td>0</td>\n",
              "      <td>130</td>\n",
              "      <td>204</td>\n",
              "      <td>0</td>\n",
              "      <td>0</td>\n",
              "      <td>172</td>\n",
              "      <td>0</td>\n",
              "      <td>1.4</td>\n",
              "      <td>0</td>\n",
              "      <td>0</td>\n",
              "      <td>0</td>\n",
              "      <td>1</td>\n",
              "      <td>0</td>\n",
              "      <td>0</td>\n",
              "      <td>1</td>\n",
              "      <td>0</td>\n",
              "      <td>1</td>\n",
              "      <td>0</td>\n",
              "      <td>0</td>\n",
              "    </tr>\n",
              "    <tr>\n",
              "      <th>3</th>\n",
              "      <td>1</td>\n",
              "      <td>120</td>\n",
              "      <td>236</td>\n",
              "      <td>0</td>\n",
              "      <td>1</td>\n",
              "      <td>178</td>\n",
              "      <td>0</td>\n",
              "      <td>0.8</td>\n",
              "      <td>0</td>\n",
              "      <td>1</td>\n",
              "      <td>0</td>\n",
              "      <td>1</td>\n",
              "      <td>0</td>\n",
              "      <td>0</td>\n",
              "      <td>1</td>\n",
              "      <td>0</td>\n",
              "      <td>1</td>\n",
              "      <td>0</td>\n",
              "      <td>0</td>\n",
              "    </tr>\n",
              "    <tr>\n",
              "      <th>4</th>\n",
              "      <td>0</td>\n",
              "      <td>120</td>\n",
              "      <td>354</td>\n",
              "      <td>0</td>\n",
              "      <td>1</td>\n",
              "      <td>163</td>\n",
              "      <td>1</td>\n",
              "      <td>0.6</td>\n",
              "      <td>0</td>\n",
              "      <td>1</td>\n",
              "      <td>0</td>\n",
              "      <td>0</td>\n",
              "      <td>0</td>\n",
              "      <td>0</td>\n",
              "      <td>1</td>\n",
              "      <td>0</td>\n",
              "      <td>1</td>\n",
              "      <td>0</td>\n",
              "      <td>0</td>\n",
              "    </tr>\n",
              "  </tbody>\n",
              "</table>\n",
              "</div>"
            ]
          },
          "metadata": {
            "tags": []
          },
          "execution_count": 39
        }
      ]
    },
    {
      "cell_type": "markdown",
      "metadata": {
        "id": "qccBuNlsGYE8"
      },
      "source": [
        "## Standardize Data\n",
        "With outlier removal"
      ]
    },
    {
      "cell_type": "code",
      "metadata": {
        "trusted": true,
        "id": "niY3pISQGYE-",
        "outputId": "65ca4c4d-5b4e-431c-9b53-5ff77f45bd4e"
      },
      "source": [
        "from sklearn.model_selection import train_test_split, GridSearchCV\n",
        "\n",
        "# Splitting the data into test and train \n",
        "X_clean_train, X_clean_test, y_clean_train, y_clean_test = train_test_split(X_clean, y_clean, test_size=0.2, random_state=42)\n",
        "\n",
        "print(\"X-Train:\",X_clean_train.shape)\n",
        "print(\"X-Test:\",X_clean_test.shape)\n",
        "print(\"Y-Train:\",y_clean_train.shape)\n",
        "print(\"Y-Test:\",y_clean_test.shape)"
      ],
      "execution_count": null,
      "outputs": [
        {
          "output_type": "stream",
          "text": [
            "X-Train: (242, 19)\n",
            "X-Test: (61, 19)\n",
            "Y-Train: (242,)\n",
            "Y-Test: (61,)\n"
          ],
          "name": "stdout"
        }
      ]
    },
    {
      "cell_type": "code",
      "metadata": {
        "trusted": true,
        "id": "C0hK-edfGYFH",
        "outputId": "9be7dadb-49df-41e5-ded5-a341846883b8"
      },
      "source": [
        "from sklearn.preprocessing import StandardScaler\n",
        "\n",
        "num_cols = ['st_depression', 'serum_cholesterol', 'resting_blood_pressure', 'max_heart_rate']\n",
        "scaler = StandardScaler()\n",
        "scaler.fit(X_clean_train[num_cols])\n",
        "\n",
        "X_clean_train[num_cols] = scaler.transform(X_clean_train[num_cols])\n",
        "X_clean_test[num_cols] = scaler.transform(X_clean_test[num_cols])\n",
        "\n",
        "X_clean_train.head()"
      ],
      "execution_count": null,
      "outputs": [
        {
          "output_type": "stream",
          "text": [
            "/opt/conda/lib/python3.7/site-packages/ipykernel_launcher.py:7: SettingWithCopyWarning: \n",
            "A value is trying to be set on a copy of a slice from a DataFrame.\n",
            "Try using .loc[row_indexer,col_indexer] = value instead\n",
            "\n",
            "See the caveats in the documentation: https://pandas.pydata.org/pandas-docs/stable/user_guide/indexing.html#returning-a-view-versus-a-copy\n",
            "  import sys\n",
            "/opt/conda/lib/python3.7/site-packages/pandas/core/indexing.py:1736: SettingWithCopyWarning: \n",
            "A value is trying to be set on a copy of a slice from a DataFrame.\n",
            "Try using .loc[row_indexer,col_indexer] = value instead\n",
            "\n",
            "See the caveats in the documentation: https://pandas.pydata.org/pandas-docs/stable/user_guide/indexing.html#returning-a-view-versus-a-copy\n",
            "  isetter(loc, value[:, i].tolist())\n",
            "/opt/conda/lib/python3.7/site-packages/ipykernel_launcher.py:8: SettingWithCopyWarning: \n",
            "A value is trying to be set on a copy of a slice from a DataFrame.\n",
            "Try using .loc[row_indexer,col_indexer] = value instead\n",
            "\n",
            "See the caveats in the documentation: https://pandas.pydata.org/pandas-docs/stable/user_guide/indexing.html#returning-a-view-versus-a-copy\n",
            "  \n",
            "/opt/conda/lib/python3.7/site-packages/pandas/core/indexing.py:1736: SettingWithCopyWarning: \n",
            "A value is trying to be set on a copy of a slice from a DataFrame.\n",
            "Try using .loc[row_indexer,col_indexer] = value instead\n",
            "\n",
            "See the caveats in the documentation: https://pandas.pydata.org/pandas-docs/stable/user_guide/indexing.html#returning-a-view-versus-a-copy\n",
            "  isetter(loc, value[:, i].tolist())\n"
          ],
          "name": "stderr"
        },
        {
          "output_type": "execute_result",
          "data": {
            "text/plain": [
              "     sex  resting_blood_pressure  serum_cholesterol  fasting_blood_sugar  \\\n",
              "132    1               -0.616856           0.914034                    0   \n",
              "202    1                1.169491           0.439527                    0   \n",
              "196    1                1.169491          -0.300704                    0   \n",
              "75     0                0.276318           0.059921                    0   \n",
              "176    1               -0.795490          -0.319684                    1   \n",
              "\n",
              "     rest_ecg  max_heart_rate  exercise_angina  st_depression  \\\n",
              "132         1        0.532781                0      -0.920864   \n",
              "202         0       -1.753582                1      -0.193787   \n",
              "196         1       -0.139679                0       2.350982   \n",
              "75          0        0.487950                0       0.351521   \n",
              "176         1        0.443119                1       0.351521   \n",
              "\n",
              "     num_major_vessels  old  young  angina pectoris  atypical angina  \\\n",
              "132                  0    0      0                1                0   \n",
              "202                  0    1      0                0                0   \n",
              "196                  0    0      0                0                1   \n",
              "75                   0    0      0                1                0   \n",
              "176                  2    1      0                0                0   \n",
              "\n",
              "     non-anginal pain  horizontal  upsloping  fixed defect  normal  \\\n",
              "132                 0           1          0             1       0   \n",
              "202                 0           1          0             0       0   \n",
              "196                 0           0          1             1       0   \n",
              "75                  0           0          1             1       0   \n",
              "176                 0           1          0             0       0   \n",
              "\n",
              "     reversable defect  \n",
              "132                  0  \n",
              "202                  1  \n",
              "196                  0  \n",
              "75                   0  \n",
              "176                  1  "
            ],
            "text/html": [
              "<div>\n",
              "<style scoped>\n",
              "    .dataframe tbody tr th:only-of-type {\n",
              "        vertical-align: middle;\n",
              "    }\n",
              "\n",
              "    .dataframe tbody tr th {\n",
              "        vertical-align: top;\n",
              "    }\n",
              "\n",
              "    .dataframe thead th {\n",
              "        text-align: right;\n",
              "    }\n",
              "</style>\n",
              "<table border=\"1\" class=\"dataframe\">\n",
              "  <thead>\n",
              "    <tr style=\"text-align: right;\">\n",
              "      <th></th>\n",
              "      <th>sex</th>\n",
              "      <th>resting_blood_pressure</th>\n",
              "      <th>serum_cholesterol</th>\n",
              "      <th>fasting_blood_sugar</th>\n",
              "      <th>rest_ecg</th>\n",
              "      <th>max_heart_rate</th>\n",
              "      <th>exercise_angina</th>\n",
              "      <th>st_depression</th>\n",
              "      <th>num_major_vessels</th>\n",
              "      <th>old</th>\n",
              "      <th>young</th>\n",
              "      <th>angina pectoris</th>\n",
              "      <th>atypical angina</th>\n",
              "      <th>non-anginal pain</th>\n",
              "      <th>horizontal</th>\n",
              "      <th>upsloping</th>\n",
              "      <th>fixed defect</th>\n",
              "      <th>normal</th>\n",
              "      <th>reversable defect</th>\n",
              "    </tr>\n",
              "  </thead>\n",
              "  <tbody>\n",
              "    <tr>\n",
              "      <th>132</th>\n",
              "      <td>1</td>\n",
              "      <td>-0.616856</td>\n",
              "      <td>0.914034</td>\n",
              "      <td>0</td>\n",
              "      <td>1</td>\n",
              "      <td>0.532781</td>\n",
              "      <td>0</td>\n",
              "      <td>-0.920864</td>\n",
              "      <td>0</td>\n",
              "      <td>0</td>\n",
              "      <td>0</td>\n",
              "      <td>1</td>\n",
              "      <td>0</td>\n",
              "      <td>0</td>\n",
              "      <td>1</td>\n",
              "      <td>0</td>\n",
              "      <td>1</td>\n",
              "      <td>0</td>\n",
              "      <td>0</td>\n",
              "    </tr>\n",
              "    <tr>\n",
              "      <th>202</th>\n",
              "      <td>1</td>\n",
              "      <td>1.169491</td>\n",
              "      <td>0.439527</td>\n",
              "      <td>0</td>\n",
              "      <td>0</td>\n",
              "      <td>-1.753582</td>\n",
              "      <td>1</td>\n",
              "      <td>-0.193787</td>\n",
              "      <td>0</td>\n",
              "      <td>1</td>\n",
              "      <td>0</td>\n",
              "      <td>0</td>\n",
              "      <td>0</td>\n",
              "      <td>0</td>\n",
              "      <td>1</td>\n",
              "      <td>0</td>\n",
              "      <td>0</td>\n",
              "      <td>0</td>\n",
              "      <td>1</td>\n",
              "    </tr>\n",
              "    <tr>\n",
              "      <th>196</th>\n",
              "      <td>1</td>\n",
              "      <td>1.169491</td>\n",
              "      <td>-0.300704</td>\n",
              "      <td>0</td>\n",
              "      <td>1</td>\n",
              "      <td>-0.139679</td>\n",
              "      <td>0</td>\n",
              "      <td>2.350982</td>\n",
              "      <td>0</td>\n",
              "      <td>0</td>\n",
              "      <td>0</td>\n",
              "      <td>0</td>\n",
              "      <td>1</td>\n",
              "      <td>0</td>\n",
              "      <td>0</td>\n",
              "      <td>1</td>\n",
              "      <td>1</td>\n",
              "      <td>0</td>\n",
              "      <td>0</td>\n",
              "    </tr>\n",
              "    <tr>\n",
              "      <th>75</th>\n",
              "      <td>0</td>\n",
              "      <td>0.276318</td>\n",
              "      <td>0.059921</td>\n",
              "      <td>0</td>\n",
              "      <td>0</td>\n",
              "      <td>0.487950</td>\n",
              "      <td>0</td>\n",
              "      <td>0.351521</td>\n",
              "      <td>0</td>\n",
              "      <td>0</td>\n",
              "      <td>0</td>\n",
              "      <td>1</td>\n",
              "      <td>0</td>\n",
              "      <td>0</td>\n",
              "      <td>0</td>\n",
              "      <td>1</td>\n",
              "      <td>1</td>\n",
              "      <td>0</td>\n",
              "      <td>0</td>\n",
              "    </tr>\n",
              "    <tr>\n",
              "      <th>176</th>\n",
              "      <td>1</td>\n",
              "      <td>-0.795490</td>\n",
              "      <td>-0.319684</td>\n",
              "      <td>1</td>\n",
              "      <td>1</td>\n",
              "      <td>0.443119</td>\n",
              "      <td>1</td>\n",
              "      <td>0.351521</td>\n",
              "      <td>2</td>\n",
              "      <td>1</td>\n",
              "      <td>0</td>\n",
              "      <td>0</td>\n",
              "      <td>0</td>\n",
              "      <td>0</td>\n",
              "      <td>1</td>\n",
              "      <td>0</td>\n",
              "      <td>0</td>\n",
              "      <td>0</td>\n",
              "      <td>1</td>\n",
              "    </tr>\n",
              "  </tbody>\n",
              "</table>\n",
              "</div>"
            ]
          },
          "metadata": {
            "tags": []
          },
          "execution_count": 42
        }
      ]
    },
    {
      "cell_type": "markdown",
      "metadata": {
        "id": "pYifpdDZqO2G"
      },
      "source": [
        "# Modelling\n",
        "Without outlier removal"
      ]
    },
    {
      "cell_type": "code",
      "metadata": {
        "trusted": true,
        "id": "5rR8Elb2qO2H"
      },
      "source": [
        "from sklearn.svm import SVC\n",
        "from sklearn.neighbors import KNeighborsClassifier\n",
        "from sklearn.naive_bayes import GaussianNB\n",
        "from sklearn.metrics import confusion_matrix, classification_report, accuracy_score\n",
        "from sklearn.model_selection import cross_val_score"
      ],
      "execution_count": null,
      "outputs": []
    },
    {
      "cell_type": "markdown",
      "metadata": {
        "id": "Tr24JQjBqO2U"
      },
      "source": [
        "### SVM"
      ]
    },
    {
      "cell_type": "code",
      "metadata": {
        "trusted": true,
        "id": "HRzBVjruqO2X",
        "outputId": "2fb169ad-97b5-457c-f599-f3610e8b6711"
      },
      "source": [
        "svm = SVC()\n",
        "svm.fit(X_train, y_train)\n",
        "y_pred = svm.predict(X_test)\n",
        "\n",
        "accuracy = accuracy_score(y_pred, y_test)\n",
        "print(f\"The accuracy on test set using SVM is: {np.round(accuracy, 3)*100.0}%\")\n",
        "print(classification_report(y_test, y_pred))"
      ],
      "execution_count": null,
      "outputs": [
        {
          "output_type": "stream",
          "text": [
            "The accuracy on test set using SVM is: 90.2%\n",
            "              precision    recall  f1-score   support\n",
            "\n",
            "           0       0.87      0.93      0.90        29\n",
            "           1       0.93      0.88      0.90        32\n",
            "\n",
            "    accuracy                           0.90        61\n",
            "   macro avg       0.90      0.90      0.90        61\n",
            "weighted avg       0.90      0.90      0.90        61\n",
            "\n"
          ],
          "name": "stdout"
        }
      ]
    },
    {
      "cell_type": "markdown",
      "metadata": {
        "id": "nLbwAsoPEo1t"
      },
      "source": [
        "Cross Validation"
      ]
    },
    {
      "cell_type": "code",
      "metadata": {
        "id": "IpB4aX77OyOW",
        "trusted": true,
        "outputId": "3dd5e9b0-9c6d-4a5d-d071-3597557aa9cd"
      },
      "source": [
        "cv_score = cross_val_score(svm, X_train, y_train, cv=10, scoring='accuracy', n_jobs = -1)\n",
        "print(cv_score, end='\\n\\n')\n",
        "print('Mean accuracy cross validation %f ' % np.mean(cv_score))"
      ],
      "execution_count": null,
      "outputs": [
        {
          "output_type": "stream",
          "text": [
            "[0.84       0.76       0.91666667 0.75       0.79166667 0.70833333\n",
            " 0.83333333 0.83333333 0.79166667 0.75      ]\n",
            "\n",
            "Mean accuracy cross validation 0.797500 \n"
          ],
          "name": "stdout"
        }
      ]
    },
    {
      "cell_type": "markdown",
      "metadata": {
        "id": "qqdoffXjO2MV"
      },
      "source": [
        "Confusion Matrix"
      ]
    },
    {
      "cell_type": "code",
      "metadata": {
        "id": "yYYMIBSqPArP",
        "trusted": true,
        "outputId": "677317ad-6a13-4a5b-8c2e-d950168ca32b"
      },
      "source": [
        "f, ax = plt.subplots(figsize=(8,5))\n",
        "sns.heatmap(confusion_matrix(y_test, y_pred), annot=True, fmt=\".0f\", ax=ax)\n",
        "plt.xlabel(\"y_head\")\n",
        "plt.ylabel(\"y_true\")\n",
        "plt.show()"
      ],
      "execution_count": null,
      "outputs": [
        {
          "output_type": "display_data",
          "data": {
            "text/plain": [
              "<Figure size 576x360 with 2 Axes>"
            ],
            "image/png": "[encoded data removed]"
          },
          "metadata": {
            "tags": [],
            "needs_background": "light"
          }
        }
      ]
    },
    {
      "cell_type": "markdown",
      "metadata": {
        "id": "pUoeKs7hqO2p"
      },
      "source": [
        "### Naive Bayes"
      ]
    },
    {
      "cell_type": "code",
      "metadata": {
        "trusted": true,
        "id": "e7eaGZKmqO2q",
        "outputId": "53bcfc87-ec2c-44c7-ecda-ab1dee2fc809"
      },
      "source": [
        "from sklearn.model_selection import train_test_split\n",
        "from sklearn.naive_bayes import GaussianNB\n",
        "gnb = GaussianNB()\n",
        "y_pred = gnb.fit(X_train, y_train).predict(X_test)\n",
        "accuracy = accuracy_score(y_pred, y_test)\n",
        "print(f\"The accuracy on test set using Naive Bayes is: {np.round(accuracy, 3)*100.0}%\")\n",
        "print(classification_report(y_test, y_pred))"
      ],
      "execution_count": null,
      "outputs": [
        {
          "output_type": "stream",
          "text": [
            "The accuracy on test set using Naive Bayes is: 86.9%\n",
            "              precision    recall  f1-score   support\n",
            "\n",
            "           0       0.82      0.93      0.87        29\n",
            "           1       0.93      0.81      0.87        32\n",
            "\n",
            "    accuracy                           0.87        61\n",
            "   macro avg       0.87      0.87      0.87        61\n",
            "weighted avg       0.88      0.87      0.87        61\n",
            "\n"
          ],
          "name": "stdout"
        }
      ]
    },
    {
      "cell_type": "markdown",
      "metadata": {
        "id": "22jFwKN9Eo13"
      },
      "source": [
        "Cross Validation"
      ]
    },
    {
      "cell_type": "code",
      "metadata": {
        "id": "QWm3WCPiPRUQ",
        "trusted": true,
        "outputId": "41d5cc29-ddae-4fe0-c0a9-31dbc15cdaf6"
      },
      "source": [
        "cv_score = cross_val_score(gnb, X_train, y_train, cv=10, scoring='accuracy', n_jobs = -1)\n",
        "print(cv_score, end='\\n\\n')\n",
        "print('Mean accuracy cross validation %f ' % np.mean(cv_score))"
      ],
      "execution_count": null,
      "outputs": [
        {
          "output_type": "stream",
          "text": [
            "[0.88       0.84       0.91666667 0.75       0.875      0.66666667\n",
            " 0.70833333 0.875      0.83333333 0.875     ]\n",
            "\n",
            "Mean accuracy cross validation 0.822000 \n"
          ],
          "name": "stdout"
        }
      ]
    },
    {
      "cell_type": "markdown",
      "metadata": {
        "id": "FAWO9Oz1Eo17"
      },
      "source": [
        "Confusion Matrix"
      ]
    },
    {
      "cell_type": "code",
      "metadata": {
        "id": "d3YMePV-PPqd",
        "trusted": true,
        "outputId": "5bd80612-bd62-46c2-b06f-32b55a4ec958"
      },
      "source": [
        "f, ax = plt.subplots(figsize=(8,5))\n",
        "sns.heatmap(confusion_matrix(y_test, y_pred), annot=True, fmt=\".0f\", ax=ax)\n",
        "plt.xlabel(\"y_head\")\n",
        "plt.ylabel(\"y_true\")\n",
        "plt.show()"
      ],
      "execution_count": null,
      "outputs": [
        {
          "output_type": "display_data",
          "data": {
            "text/plain": [
              "<Figure size 576x360 with 2 Axes>"
            ],
            "image/png": "[encoded data removed]"
          },
          "metadata": {
            "tags": [],
            "needs_background": "light"
          }
        }
      ]
    },
    {
      "cell_type": "markdown",
      "metadata": {
        "id": "RfkGKYupqO27"
      },
      "source": [
        "### KNN"
      ]
    },
    {
      "cell_type": "code",
      "metadata": {
        "id": "aMGBK3QXLDOV",
        "trusted": true,
        "outputId": "4d4971b3-4cb0-424a-fdf9-b143d7703f9a"
      },
      "source": [
        "\n",
        "# creating a list of K's for performing KNN\n",
        "my_list = list(range(0,30))\n",
        "\n",
        "# filtering out only the odd K values\n",
        "neighbors = list(filter(lambda x: x % 2 != 0, my_list))\n",
        "\n",
        "# list to hold the cv scores\n",
        "cv_scores = []\n",
        "\n",
        "# perform 10-fold cross validation with default weights\n",
        "for k in neighbors:\n",
        "  Knn = KNeighborsClassifier(n_neighbors = k, algorithm = 'brute')\n",
        "  scores = cross_val_score(Knn, X_train, y_train, cv=10, scoring='accuracy', n_jobs = -1)\n",
        "  cv_scores.append(scores.mean())\n",
        "\n",
        "# finding the optimal k\n",
        "optimal_k = neighbors[cv_scores.index(max(cv_scores))]\n",
        "print(\"The optimal K value is with default weight parameter: \", optimal_k)"
      ],
      "execution_count": null,
      "outputs": [
        {
          "output_type": "stream",
          "text": [
            "The optimal K value is with default weight parameter:  17\n"
          ],
          "name": "stdout"
        }
      ]
    },
    {
      "cell_type": "code",
      "metadata": {
        "id": "I3AKsozJNKAA",
        "trusted": true,
        "outputId": "250b1168-d232-4497-cc33-991e7fed823e"
      },
      "source": [
        "# plotting accuracy vs K\n",
        "plt.plot(neighbors, cv_scores)\n",
        "plt.xlabel(\"Number of Neighbors K\")\n",
        "plt.ylabel(\"Accuracy\")\n",
        "plt.title(\"Accuracy vs K Plot for normal \")\n",
        "plt.grid()\n",
        "plt.show()\n",
        "\n",
        "print(\"Accuracy scores for each K value is : \", np.round(cv_scores, 3))"
      ],
      "execution_count": null,
      "outputs": [
        {
          "output_type": "display_data",
          "data": {
            "text/plain": [
              "<Figure size 432x288 with 1 Axes>"
            ],
            "image/png": "[encoded data removed]"
          },
          "metadata": {
            "tags": [],
            "needs_background": "light"
          }
        },
        {
          "output_type": "stream",
          "text": [
            "Accuracy scores for each K value is :  [0.716 0.757 0.777 0.794 0.798 0.798 0.814 0.806 0.818 0.806 0.789 0.785\n",
            " 0.781 0.798 0.785]\n"
          ],
          "name": "stdout"
        }
      ]
    },
    {
      "cell_type": "code",
      "metadata": {
        "id": "NG6yWB-jNPuD",
        "trusted": true,
        "outputId": "980d3880-4a9f-47c0-d929-86c4f2376ce8"
      },
      "source": [
        "# Finding the accuracy of KNN with optimal K\n",
        "\n",
        "from sklearn.metrics import accuracy_score\n",
        "\n",
        "# create instance of classifier\n",
        "knn_optimal = KNeighborsClassifier(n_neighbors = optimal_k, algorithm = 'kd_tree', \n",
        "                                   n_jobs = -1)\n",
        "\n",
        "# fit the model\n",
        "knn_optimal.fit(X_train, y_train)\n",
        "\n",
        "# predict on test vector\n",
        "y_pred = knn_optimal.predict(X_test)\n",
        "\n",
        "# evaluate accuracy score\n",
        "accuracy = accuracy_score(y_test, y_pred)*100\n",
        "print(f\"The accuracy on test set using KNN for optimal K = {optimal_k} is {np.round(accuracy, 3)}%\")\n",
        "print(classification_report(y_test, y_pred))"
      ],
      "execution_count": null,
      "outputs": [
        {
          "output_type": "stream",
          "text": [
            "The accuracy on test set using KNN for optimal K = 17 is 83.607%\n",
            "              precision    recall  f1-score   support\n",
            "\n",
            "           0       0.81      0.86      0.83        29\n",
            "           1       0.87      0.81      0.84        32\n",
            "\n",
            "    accuracy                           0.84        61\n",
            "   macro avg       0.84      0.84      0.84        61\n",
            "weighted avg       0.84      0.84      0.84        61\n",
            "\n"
          ],
          "name": "stdout"
        }
      ]
    },
    {
      "cell_type": "markdown",
      "metadata": {
        "id": "jlZJfO6_Eo2K"
      },
      "source": [
        "Cross Validation"
      ]
    },
    {
      "cell_type": "code",
      "metadata": {
        "id": "3lI5znABPe36",
        "trusted": true,
        "outputId": "2529ab9b-adef-4e49-b635-190f7eba32f0"
      },
      "source": [
        "cv_scores = cross_val_score(Knn, X_train, y_train, cv=10, scoring='accuracy', n_jobs = -1)\n",
        "print(cv_score, end='\\n\\n')\n",
        "print('Mean accuracy cross validation %f ' % np.mean(cv_score))"
      ],
      "execution_count": null,
      "outputs": [
        {
          "output_type": "stream",
          "text": [
            "[0.88       0.84       0.91666667 0.75       0.875      0.66666667\n",
            " 0.70833333 0.875      0.83333333 0.875     ]\n",
            "\n",
            "Mean accuracy cross validation 0.822000 \n"
          ],
          "name": "stdout"
        }
      ]
    },
    {
      "cell_type": "markdown",
      "metadata": {
        "id": "Dk0abrbbPgn0"
      },
      "source": [
        "Confusion Matrix"
      ]
    },
    {
      "cell_type": "code",
      "metadata": {
        "id": "cmmUv5DIPm1f",
        "trusted": true,
        "outputId": "6252b49d-5681-4877-dbbb-0632c31795bd"
      },
      "source": [
        "f, ax = plt.subplots(figsize=(8,5))\n",
        "sns.heatmap(confusion_matrix(y_test, y_pred), annot=True, fmt=\".0f\", ax=ax)\n",
        "plt.xlabel(\"y_head\")\n",
        "plt.ylabel(\"y_true\")\n",
        "plt.show()"
      ],
      "execution_count": null,
      "outputs": [
        {
          "output_type": "display_data",
          "data": {
            "text/plain": [
              "<Figure size 576x360 with 2 Axes>"
            ],
            "image/png": "[encoded data removed]"
          },
          "metadata": {
            "tags": [],
            "needs_background": "light"
          }
        }
      ]
    },
    {
      "cell_type": "markdown",
      "metadata": {
        "id": "FWwfNNmLGdq1"
      },
      "source": [
        "# Modelling\n",
        "With outlier removal"
      ]
    },
    {
      "cell_type": "code",
      "metadata": {
        "trusted": true,
        "id": "lTlMIASqGdq4"
      },
      "source": [
        "from sklearn.svm import SVC\n",
        "from sklearn.neighbors import KNeighborsClassifier\n",
        "from sklearn.naive_bayes import GaussianNB\n",
        "from sklearn.metrics import confusion_matrix, classification_report, accuracy_score\n",
        "from sklearn.model_selection import cross_val_score"
      ],
      "execution_count": null,
      "outputs": []
    },
    {
      "cell_type": "markdown",
      "metadata": {
        "id": "1Rd1hkdeGdrB"
      },
      "source": [
        "### SVM"
      ]
    },
    {
      "cell_type": "code",
      "metadata": {
        "trusted": true,
        "id": "m1A3JO4yGdrD",
        "outputId": "2fb169ad-97b5-457c-f599-f3610e8b6711"
      },
      "source": [
        "svm = SVC()\n",
        "svm.fit(X_clean_train, y_clean_train)\n",
        "y_clean_pred = svm.predict(X_clean_test)\n",
        "\n",
        "accuracy_clean = accuracy_score(y_clean_pred, y_clean_test)\n",
        "print(f\"The accuracy on test set using SVM is: {np.round(accuracy_clean, 3)*100.0}%\")\n",
        "print(classification_report(y_clean_test, y_clean_pred))"
      ],
      "execution_count": null,
      "outputs": [
        {
          "output_type": "stream",
          "text": [
            "The accuracy on test set using SVM is: 90.2%\n",
            "              precision    recall  f1-score   support\n",
            "\n",
            "           0       0.87      0.93      0.90        29\n",
            "           1       0.93      0.88      0.90        32\n",
            "\n",
            "    accuracy                           0.90        61\n",
            "   macro avg       0.90      0.90      0.90        61\n",
            "weighted avg       0.90      0.90      0.90        61\n",
            "\n"
          ],
          "name": "stdout"
        }
      ]
    },
    {
      "cell_type": "markdown",
      "metadata": {
        "id": "xCIqAEWcGdrM"
      },
      "source": [
        "Cross Validation"
      ]
    },
    {
      "cell_type": "code",
      "metadata": {
        "trusted": true,
        "id": "QwmF6PiVGdrO",
        "outputId": "3dd5e9b0-9c6d-4a5d-d071-3597557aa9cd"
      },
      "source": [
        "cv_score_clean = cross_val_score(svm, X_clean_train, y_clean_train, cv=10, scoring='accuracy', n_jobs = -1)\n",
        "print(cv_score_clean, end='\\n\\n')\n",
        "print('Mean accuracy cross validation %f ' % np.mean(cv_score_clean))"
      ],
      "execution_count": null,
      "outputs": [
        {
          "output_type": "stream",
          "text": [
            "[0.84       0.76       0.91666667 0.75       0.79166667 0.70833333\n",
            " 0.83333333 0.83333333 0.79166667 0.75      ]\n",
            "\n",
            "Mean accuracy cross validation 0.797500 \n"
          ],
          "name": "stdout"
        }
      ]
    },
    {
      "cell_type": "markdown",
      "metadata": {
        "id": "-6F2dGJRGdrW"
      },
      "source": [
        "Confusion Matrix"
      ]
    },
    {
      "cell_type": "code",
      "metadata": {
        "trusted": true,
        "id": "bfWWHJN5GdrY",
        "outputId": "677317ad-6a13-4a5b-8c2e-d950168ca32b"
      },
      "source": [
        "f, ax = plt.subplots(figsize=(8,5))\n",
        "sns.heatmap(confusion_matrix(y_clean_test, y_clean_pred), annot=True, fmt=\".0f\", ax=ax)\n",
        "plt.xlabel(\"y_head\")\n",
        "plt.ylabel(\"y_true\")\n",
        "plt.show()"
      ],
      "execution_count": null,
      "outputs": [
        {
          "output_type": "display_data",
          "data": {
            "text/plain": [
              "<Figure size 576x360 with 2 Axes>"
            ],
            "image/png": "[encoded data removed]"
          },
          "metadata": {
            "tags": [],
            "needs_background": "light"
          }
        }
      ]
    },
    {
      "cell_type": "markdown",
      "metadata": {
        "id": "U-XCS58MGdrh"
      },
      "source": [
        "### Naive Bayes"
      ]
    },
    {
      "cell_type": "code",
      "metadata": {
        "trusted": true,
        "id": "CUGVB9AyGdrn",
        "outputId": "53bcfc87-ec2c-44c7-ecda-ab1dee2fc809"
      },
      "source": [
        "from sklearn.model_selection import train_test_split\n",
        "from sklearn.naive_bayes import GaussianNB\n",
        "gnb = GaussianNB()\n",
        "y_clean_pred = gnb.fit(X_clean_train, y_clean_train).predict(X_clean_test)\n",
        "accuracy = accuracy_score(y_clean_pred, y_clean_test)\n",
        "print(f\"The accuracy on test set using Naive Bayes is: {np.round(accuracy, 3)*100.0}%\")\n",
        "print(classification_report(y_test, y_clean_pred))"
      ],
      "execution_count": null,
      "outputs": [
        {
          "output_type": "stream",
          "text": [
            "The accuracy on test set using Naive Bayes is: 86.9%\n",
            "              precision    recall  f1-score   support\n",
            "\n",
            "           0       0.82      0.93      0.87        29\n",
            "           1       0.93      0.81      0.87        32\n",
            "\n",
            "    accuracy                           0.87        61\n",
            "   macro avg       0.87      0.87      0.87        61\n",
            "weighted avg       0.88      0.87      0.87        61\n",
            "\n"
          ],
          "name": "stdout"
        }
      ]
    },
    {
      "cell_type": "markdown",
      "metadata": {
        "id": "waFFunfWGdrx"
      },
      "source": [
        "Cross Validation"
      ]
    },
    {
      "cell_type": "code",
      "metadata": {
        "trusted": true,
        "id": "vF85qaKAGdrz",
        "outputId": "41d5cc29-ddae-4fe0-c0a9-31dbc15cdaf6"
      },
      "source": [
        "cv_score = cross_val_score(gnb, X_train, y_train, cv=10, scoring='accuracy', n_jobs = -1)\n",
        "print(cv_score, end='\\n\\n')\n",
        "print('Mean accuracy cross validation %f ' % np.mean(cv_score))"
      ],
      "execution_count": null,
      "outputs": [
        {
          "output_type": "stream",
          "text": [
            "[0.88       0.84       0.91666667 0.75       0.875      0.66666667\n",
            " 0.70833333 0.875      0.83333333 0.875     ]\n",
            "\n",
            "Mean accuracy cross validation 0.822000 \n"
          ],
          "name": "stdout"
        }
      ]
    },
    {
      "cell_type": "markdown",
      "metadata": {
        "id": "VgeqRHSZGdr-"
      },
      "source": [
        "Confusion Matrix"
      ]
    },
    {
      "cell_type": "code",
      "metadata": {
        "trusted": true,
        "id": "hY6qlru6GdsA",
        "outputId": "5bd80612-bd62-46c2-b06f-32b55a4ec958"
      },
      "source": [
        "f, ax = plt.subplots(figsize=(8,5))\n",
        "sns.heatmap(confusion_matrix(y_test, y_pred), annot=True, fmt=\".0f\", ax=ax)\n",
        "plt.xlabel(\"y_head\")\n",
        "plt.ylabel(\"y_true\")\n",
        "plt.show()"
      ],
      "execution_count": null,
      "outputs": [
        {
          "output_type": "display_data",
          "data": {
            "text/plain": [
              "<Figure size 576x360 with 2 Axes>"
            ],
            "image/png": "[encoded data removed]"
          },
          "metadata": {
            "tags": [],
            "needs_background": "light"
          }
        }
      ]
    },
    {
      "cell_type": "markdown",
      "metadata": {
        "id": "wn6MZI_1GdsI"
      },
      "source": [
        "### KNN"
      ]
    },
    {
      "cell_type": "code",
      "metadata": {
        "trusted": true,
        "id": "L4-375WdGdsJ",
        "outputId": "4d4971b3-4cb0-424a-fdf9-b143d7703f9a"
      },
      "source": [
        "\n",
        "# creating a list of K's for performing KNN\n",
        "my_list = list(range(0,30))\n",
        "\n",
        "# filtering out only the odd K values\n",
        "neighbors = list(filter(lambda x: x % 2 != 0, my_list))\n",
        "\n",
        "# list to hold the cv scores\n",
        "cv_scores = []\n",
        "\n",
        "# perform 10-fold cross validation with default weights\n",
        "for k in neighbors:\n",
        "  Knn = KNeighborsClassifier(n_neighbors = k, algorithm = 'brute')\n",
        "  scores = cross_val_score(Knn, X_train, y_train, cv=10, scoring='accuracy', n_jobs = -1)\n",
        "  cv_scores.append(scores.mean())\n",
        "\n",
        "# finding the optimal k\n",
        "optimal_k = neighbors[cv_scores.index(max(cv_scores))]\n",
        "print(\"The optimal K value is with default weight parameter: \", optimal_k)"
      ],
      "execution_count": null,
      "outputs": [
        {
          "output_type": "stream",
          "text": [
            "The optimal K value is with default weight parameter:  17\n"
          ],
          "name": "stdout"
        }
      ]
    },
    {
      "cell_type": "code",
      "metadata": {
        "trusted": true,
        "id": "XF0LCrFjGdsV",
        "outputId": "250b1168-d232-4497-cc33-991e7fed823e"
      },
      "source": [
        "# plotting accuracy vs K\n",
        "plt.plot(neighbors, cv_scores)\n",
        "plt.xlabel(\"Number of Neighbors K\")\n",
        "plt.ylabel(\"Accuracy\")\n",
        "plt.title(\"Accuracy vs K Plot for normal \")\n",
        "plt.grid()\n",
        "plt.show()\n",
        "\n",
        "print(\"Accuracy scores for each K value is : \", np.round(cv_scores, 3))"
      ],
      "execution_count": null,
      "outputs": [
        {
          "output_type": "display_data",
          "data": {
            "text/plain": [
              "<Figure size 432x288 with 1 Axes>"
            ],
            "image/png": "[encoded data removed]"
          },
          "metadata": {
            "tags": [],
            "needs_background": "light"
          }
        },
        {
          "output_type": "stream",
          "text": [
            "Accuracy scores for each K value is :  [0.716 0.757 0.777 0.794 0.798 0.798 0.814 0.806 0.818 0.806 0.789 0.785\n",
            " 0.781 0.798 0.785]\n"
          ],
          "name": "stdout"
        }
      ]
    },
    {
      "cell_type": "code",
      "metadata": {
        "trusted": true,
        "id": "EGkw2igrGdse",
        "outputId": "980d3880-4a9f-47c0-d929-86c4f2376ce8"
      },
      "source": [
        "# Finding the accuracy of KNN with optimal K\n",
        "\n",
        "from sklearn.metrics import accuracy_score\n",
        "\n",
        "# create instance of classifier\n",
        "knn_optimal = KNeighborsClassifier(n_neighbors = optimal_k, algorithm = 'kd_tree', \n",
        "                                   n_jobs = -1)\n",
        "\n",
        "# fit the model\n",
        "knn_optimal.fit(X_train, y_train)\n",
        "\n",
        "# predict on test vector\n",
        "y_pred = knn_optimal.predict(X_test)\n",
        "\n",
        "# evaluate accuracy score\n",
        "accuracy = accuracy_score(y_test, y_pred)*100\n",
        "print(f\"The accuracy on test set using KNN for optimal K = {optimal_k} is {np.round(accuracy, 3)}%\")\n",
        "print(classification_report(y_test, y_pred))"
      ],
      "execution_count": null,
      "outputs": [
        {
          "output_type": "stream",
          "text": [
            "The accuracy on test set using KNN for optimal K = 17 is 83.607%\n",
            "              precision    recall  f1-score   support\n",
            "\n",
            "           0       0.81      0.86      0.83        29\n",
            "           1       0.87      0.81      0.84        32\n",
            "\n",
            "    accuracy                           0.84        61\n",
            "   macro avg       0.84      0.84      0.84        61\n",
            "weighted avg       0.84      0.84      0.84        61\n",
            "\n"
          ],
          "name": "stdout"
        }
      ]
    },
    {
      "cell_type": "markdown",
      "metadata": {
        "id": "DsMPHiItGdst"
      },
      "source": [
        "Cross Validation"
      ]
    },
    {
      "cell_type": "code",
      "metadata": {
        "trusted": true,
        "id": "hpLp1uyRGdsv",
        "outputId": "2529ab9b-adef-4e49-b635-190f7eba32f0"
      },
      "source": [
        "cv_scores = cross_val_score(Knn, X_train, y_train, cv=10, scoring='accuracy', n_jobs = -1)\n",
        "print(cv_score, end='\\n\\n')\n",
        "print('Mean accuracy cross validation %f ' % np.mean(cv_score))"
      ],
      "execution_count": null,
      "outputs": [
        {
          "output_type": "stream",
          "text": [
            "[0.88       0.84       0.91666667 0.75       0.875      0.66666667\n",
            " 0.70833333 0.875      0.83333333 0.875     ]\n",
            "\n",
            "Mean accuracy cross validation 0.822000 \n"
          ],
          "name": "stdout"
        }
      ]
    },
    {
      "cell_type": "markdown",
      "metadata": {
        "id": "0q4K85auGds3"
      },
      "source": [
        "Confusion Matrix"
      ]
    },
    {
      "cell_type": "code",
      "metadata": {
        "trusted": true,
        "id": "30MfnC3gGds7",
        "outputId": "6252b49d-5681-4877-dbbb-0632c31795bd"
      },
      "source": [
        "f, ax = plt.subplots(figsize=(8,5))\n",
        "sns.heatmap(confusion_matrix(y_test, y_pred), annot=True, fmt=\".0f\", ax=ax)\n",
        "plt.xlabel(\"y_head\")\n",
        "plt.ylabel(\"y_true\")\n",
        "plt.show()"
      ],
      "execution_count": null,
      "outputs": [
        {
          "output_type": "display_data",
          "data": {
            "text/plain": [
              "<Figure size 576x360 with 2 Axes>"
            ],
            "image/png": "[encoded data removed]"
          },
          "metadata": {
            "tags": [],
            "needs_background": "light"
          }
        }
      ]
    }
  ]
}